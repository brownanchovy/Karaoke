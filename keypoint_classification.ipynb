{
 "cells": [
  {
   "cell_type": "code",
   "execution_count": 1,
   "metadata": {
    "id": "igMyGnjE9hEp"
   },
   "outputs": [],
   "source": [
    "import csv\n",
    "\n",
    "import numpy as np\n",
    "import tensorflow as tf\n",
    "from sklearn.model_selection import train_test_split\n",
    "\n",
    "RANDOM_SEED = 42"
   ]
  },
  {
   "cell_type": "markdown",
   "metadata": {
    "id": "t2HDvhIu9hEr"
   },
   "source": [
    "# Specify each path"
   ]
  },
  {
   "cell_type": "code",
   "execution_count": 2,
   "metadata": {
    "id": "9NvZP2Zn9hEy"
   },
   "outputs": [],
   "source": [
    "dataset = 'model/keypoint_classifier/keypoint.csv'\n",
    "model_save_path = 'model/keypoint_classifier/keypoint_classifier.hdf5'\n",
    "tflite_save_path = 'model/keypoint_classifier/keypoint_classifier.tflite'"
   ]
  },
  {
   "cell_type": "markdown",
   "metadata": {
    "id": "s5oMH7x19hEz"
   },
   "source": [
    "# Set number of classes"
   ]
  },
  {
   "cell_type": "code",
   "execution_count": 3,
   "metadata": {
    "id": "du4kodXL9hEz"
   },
   "outputs": [],
   "source": [
    "NUM_CLASSES = 5"
   ]
  },
  {
   "cell_type": "markdown",
   "metadata": {
    "id": "XjnL0uso9hEz"
   },
   "source": [
    "# Dataset reading"
   ]
  },
  {
   "cell_type": "code",
   "execution_count": 4,
   "metadata": {
    "id": "QT5ZqtEz9hE0"
   },
   "outputs": [],
   "source": [
    "X_dataset = np.loadtxt(dataset, delimiter=',', dtype='float32', usecols=list(range(1, (21 * 2) + 1)))"
   ]
  },
  {
   "cell_type": "code",
   "execution_count": 5,
   "metadata": {
    "id": "QmoKFsp49hE0"
   },
   "outputs": [],
   "source": [
    "y_dataset = np.loadtxt(dataset, delimiter=',', dtype='int32', usecols=(0))"
   ]
  },
  {
   "cell_type": "code",
   "execution_count": 6,
   "metadata": {
    "id": "xQU7JTZ_9hE0"
   },
   "outputs": [],
   "source": [
    "X_train, X_test, y_train, y_test = train_test_split(X_dataset, y_dataset, train_size=0.75, random_state=RANDOM_SEED)"
   ]
  },
  {
   "cell_type": "markdown",
   "metadata": {
    "id": "mxK_lETT9hE0"
   },
   "source": [
    "# Model building"
   ]
  },
  {
   "cell_type": "code",
   "execution_count": 7,
   "metadata": {
    "id": "vHBmUf1t9hE1"
   },
   "outputs": [],
   "source": [
    "model = tf.keras.models.Sequential([\n",
    "    tf.keras.layers.Input((21 * 2, )),\n",
    "    tf.keras.layers.Dropout(0.2),\n",
    "    tf.keras.layers.Dense(20, activation='relu'),\n",
    "    tf.keras.layers.Dropout(0.4),\n",
    "    tf.keras.layers.Dense(10, activation='relu'),\n",
    "    tf.keras.layers.Dense(NUM_CLASSES, activation='softmax')\n",
    "])"
   ]
  },
  {
   "cell_type": "code",
   "execution_count": 8,
   "metadata": {
    "colab": {
     "base_uri": "https://localhost:8080/"
    },
    "id": "ypqky9tc9hE1",
    "outputId": "5db082bb-30e3-4110-bf63-a1ee777ecd46"
   },
   "outputs": [
    {
     "name": "stdout",
     "output_type": "stream",
     "text": [
      "Model: \"sequential\"\n",
      "_________________________________________________________________\n",
      " Layer (type)                Output Shape              Param #   \n",
      "=================================================================\n",
      " dropout (Dropout)           (None, 42)                0         \n",
      "                                                                 \n",
      " dense (Dense)               (None, 20)                860       \n",
      "                                                                 \n",
      " dropout_1 (Dropout)         (None, 20)                0         \n",
      "                                                                 \n",
      " dense_1 (Dense)             (None, 10)                210       \n",
      "                                                                 \n",
      " dense_2 (Dense)             (None, 5)                 55        \n",
      "                                                                 \n",
      "=================================================================\n",
      "Total params: 1,125\n",
      "Trainable params: 1,125\n",
      "Non-trainable params: 0\n",
      "_________________________________________________________________\n"
     ]
    }
   ],
   "source": [
    "model.summary()  # tf.keras.utils.plot_model(model, show_shapes=True)"
   ]
  },
  {
   "cell_type": "code",
   "execution_count": 9,
   "metadata": {
    "id": "MbMjOflQ9hE1"
   },
   "outputs": [],
   "source": [
    "# Model checkpoint callback\n",
    "cp_callback = tf.keras.callbacks.ModelCheckpoint(\n",
    "    model_save_path, verbose=1, save_weights_only=False)\n",
    "# Callback for early stopping\n",
    "es_callback = tf.keras.callbacks.EarlyStopping(patience=20, verbose=1)"
   ]
  },
  {
   "cell_type": "code",
   "execution_count": 10,
   "metadata": {
    "id": "c3Dac0M_9hE2"
   },
   "outputs": [],
   "source": [
    "# Model compilation\n",
    "model.compile(\n",
    "    optimizer='adam',\n",
    "    loss='sparse_categorical_crossentropy',\n",
    "    metrics=['accuracy']\n",
    ")"
   ]
  },
  {
   "cell_type": "markdown",
   "metadata": {
    "id": "7XI0j1Iu9hE2"
   },
   "source": [
    "# Model training"
   ]
  },
  {
   "cell_type": "code",
   "execution_count": 11,
   "metadata": {
    "colab": {
     "base_uri": "https://localhost:8080/"
    },
    "id": "WirBl-JE9hE3",
    "outputId": "71b30ca2-8294-4d9d-8aa2-800d90d399de",
    "scrolled": true
   },
   "outputs": [
    {
     "name": "stdout",
     "output_type": "stream",
     "text": [
      "Epoch 1/10000\n",
      "22/31 [====================>.........] - ETA: 0s - loss: 1.6379 - accuracy: 0.2546 \n",
      "Epoch 1: saving model to model/keypoint_classifier\\keypoint_classifier.hdf5\n",
      "31/31 [==============================] - 1s 15ms/step - loss: 1.6149 - accuracy: 0.2654 - val_loss: 1.4874 - val_accuracy: 0.3298\n",
      "Epoch 2/10000\n",
      "21/31 [===================>..........] - ETA: 0s - loss: 1.5124 - accuracy: 0.3147\n",
      "Epoch 2: saving model to model/keypoint_classifier\\keypoint_classifier.hdf5\n",
      "31/31 [==============================] - 0s 5ms/step - loss: 1.4946 - accuracy: 0.3314 - val_loss: 1.3952 - val_accuracy: 0.4375\n",
      "Epoch 3/10000\n",
      "21/31 [===================>..........] - ETA: 0s - loss: 1.4387 - accuracy: 0.3672\n",
      "Epoch 3: saving model to model/keypoint_classifier\\keypoint_classifier.hdf5\n",
      "31/31 [==============================] - 0s 5ms/step - loss: 1.4299 - accuracy: 0.3744 - val_loss: 1.3402 - val_accuracy: 0.5421\n",
      "Epoch 4/10000\n",
      "19/31 [=================>............] - ETA: 0s - loss: 1.3877 - accuracy: 0.3939\n",
      "Epoch 4: saving model to model/keypoint_classifier\\keypoint_classifier.hdf5\n",
      "31/31 [==============================] - 0s 5ms/step - loss: 1.3806 - accuracy: 0.3999 - val_loss: 1.2786 - val_accuracy: 0.5322\n",
      "Epoch 5/10000\n",
      "21/31 [===================>..........] - ETA: 0s - loss: 1.3471 - accuracy: 0.4208\n",
      "Epoch 5: saving model to model/keypoint_classifier\\keypoint_classifier.hdf5\n",
      "31/31 [==============================] - 0s 5ms/step - loss: 1.3309 - accuracy: 0.4297 - val_loss: 1.2182 - val_accuracy: 0.5459\n",
      "Epoch 6/10000\n",
      "25/31 [=======================>......] - ETA: 0s - loss: 1.2906 - accuracy: 0.4434\n",
      "Epoch 6: saving model to model/keypoint_classifier\\keypoint_classifier.hdf5\n",
      "31/31 [==============================] - 0s 6ms/step - loss: 1.2877 - accuracy: 0.4505 - val_loss: 1.1583 - val_accuracy: 0.5625\n",
      "Epoch 7/10000\n",
      "24/31 [======================>.......] - ETA: 0s - loss: 1.2510 - accuracy: 0.4707\n",
      "Epoch 7: saving model to model/keypoint_classifier\\keypoint_classifier.hdf5\n",
      "31/31 [==============================] - 0s 5ms/step - loss: 1.2494 - accuracy: 0.4732 - val_loss: 1.1046 - val_accuracy: 0.5898\n",
      "Epoch 8/10000\n",
      "24/31 [======================>.......] - ETA: 0s - loss: 1.2257 - accuracy: 0.4876\n",
      "Epoch 8: saving model to model/keypoint_classifier\\keypoint_classifier.hdf5\n",
      "31/31 [==============================] - 0s 5ms/step - loss: 1.2206 - accuracy: 0.4929 - val_loss: 1.0599 - val_accuracy: 0.6042\n",
      "Epoch 9/10000\n",
      "21/31 [===================>..........] - ETA: 0s - loss: 1.1940 - accuracy: 0.5067\n",
      "Epoch 9: saving model to model/keypoint_classifier\\keypoint_classifier.hdf5\n",
      "31/31 [==============================] - 0s 6ms/step - loss: 1.1896 - accuracy: 0.5048 - val_loss: 1.0173 - val_accuracy: 0.6528\n",
      "Epoch 10/10000\n",
      "17/31 [===============>..............] - ETA: 0s - loss: 1.1759 - accuracy: 0.5267\n",
      "Epoch 10: saving model to model/keypoint_classifier\\keypoint_classifier.hdf5\n",
      "31/31 [==============================] - 0s 7ms/step - loss: 1.1626 - accuracy: 0.5268 - val_loss: 0.9774 - val_accuracy: 0.6687\n",
      "Epoch 11/10000\n",
      "14/31 [============>.................] - ETA: 0s - loss: 1.1372 - accuracy: 0.5441\n",
      "Epoch 11: saving model to model/keypoint_classifier\\keypoint_classifier.hdf5\n",
      "31/31 [==============================] - 0s 7ms/step - loss: 1.1307 - accuracy: 0.5422 - val_loss: 0.9364 - val_accuracy: 0.6945\n",
      "Epoch 12/10000\n",
      "30/31 [============================>.] - ETA: 0s - loss: 1.1080 - accuracy: 0.5492\n",
      "Epoch 12: saving model to model/keypoint_classifier\\keypoint_classifier.hdf5\n",
      "31/31 [==============================] - 0s 7ms/step - loss: 1.1075 - accuracy: 0.5483 - val_loss: 0.9048 - val_accuracy: 0.7036\n",
      "Epoch 13/10000\n",
      "19/31 [=================>............] - ETA: 0s - loss: 1.0942 - accuracy: 0.5699\n",
      "Epoch 13: saving model to model/keypoint_classifier\\keypoint_classifier.hdf5\n",
      "31/31 [==============================] - 0s 6ms/step - loss: 1.0907 - accuracy: 0.5665 - val_loss: 0.8740 - val_accuracy: 0.7142\n",
      "Epoch 14/10000\n",
      "21/31 [===================>..........] - ETA: 0s - loss: 1.0864 - accuracy: 0.5662\n",
      "Epoch 14: saving model to model/keypoint_classifier\\keypoint_classifier.hdf5\n",
      "31/31 [==============================] - 0s 7ms/step - loss: 1.0811 - accuracy: 0.5660 - val_loss: 0.8470 - val_accuracy: 0.7324\n",
      "Epoch 15/10000\n",
      "21/31 [===================>..........] - ETA: 0s - loss: 1.0655 - accuracy: 0.5685\n",
      "Epoch 15: saving model to model/keypoint_classifier\\keypoint_classifier.hdf5\n",
      "31/31 [==============================] - 0s 5ms/step - loss: 1.0460 - accuracy: 0.5774 - val_loss: 0.8239 - val_accuracy: 0.7400\n",
      "Epoch 16/10000\n",
      "23/31 [=====================>........] - ETA: 0s - loss: 1.0372 - accuracy: 0.5866\n",
      "Epoch 16: saving model to model/keypoint_classifier\\keypoint_classifier.hdf5\n",
      "31/31 [==============================] - 0s 5ms/step - loss: 1.0340 - accuracy: 0.5882 - val_loss: 0.8045 - val_accuracy: 0.7483\n",
      "Epoch 17/10000\n",
      "22/31 [====================>.........] - ETA: 0s - loss: 1.0225 - accuracy: 0.5980\n",
      "Epoch 17: saving model to model/keypoint_classifier\\keypoint_classifier.hdf5\n",
      "31/31 [==============================] - 0s 6ms/step - loss: 1.0209 - accuracy: 0.5945 - val_loss: 0.7827 - val_accuracy: 0.7589\n",
      "Epoch 18/10000\n",
      "17/31 [===============>..............] - ETA: 0s - loss: 1.0133 - accuracy: 0.5905\n",
      "Epoch 18: saving model to model/keypoint_classifier\\keypoint_classifier.hdf5\n",
      "31/31 [==============================] - 0s 6ms/step - loss: 1.0048 - accuracy: 0.5981 - val_loss: 0.7611 - val_accuracy: 0.7680\n",
      "Epoch 19/10000\n",
      "17/31 [===============>..............] - ETA: 0s - loss: 0.9890 - accuracy: 0.6062\n",
      "Epoch 19: saving model to model/keypoint_classifier\\keypoint_classifier.hdf5\n",
      "31/31 [==============================] - 0s 7ms/step - loss: 1.0059 - accuracy: 0.5953 - val_loss: 0.7472 - val_accuracy: 0.7756\n",
      "Epoch 20/10000\n",
      "16/31 [==============>...............] - ETA: 0s - loss: 0.9622 - accuracy: 0.6250\n",
      "Epoch 20: saving model to model/keypoint_classifier\\keypoint_classifier.hdf5\n",
      "31/31 [==============================] - 0s 7ms/step - loss: 0.9681 - accuracy: 0.6203 - val_loss: 0.7273 - val_accuracy: 0.7741\n",
      "Epoch 21/10000\n",
      "19/31 [=================>............] - ETA: 0s - loss: 0.9638 - accuracy: 0.6176\n",
      "Epoch 21: saving model to model/keypoint_classifier\\keypoint_classifier.hdf5\n",
      "31/31 [==============================] - 0s 6ms/step - loss: 0.9683 - accuracy: 0.6143 - val_loss: 0.7092 - val_accuracy: 0.7726\n",
      "Epoch 22/10000\n",
      "21/31 [===================>..........] - ETA: 0s - loss: 0.9763 - accuracy: 0.6142\n",
      "Epoch 22: saving model to model/keypoint_classifier\\keypoint_classifier.hdf5\n",
      "31/31 [==============================] - 0s 6ms/step - loss: 0.9632 - accuracy: 0.6218 - val_loss: 0.6979 - val_accuracy: 0.7786\n",
      "Epoch 23/10000\n",
      "22/31 [====================>.........] - ETA: 0s - loss: 0.9676 - accuracy: 0.6112\n",
      "Epoch 23: saving model to model/keypoint_classifier\\keypoint_classifier.hdf5\n",
      "31/31 [==============================] - 0s 5ms/step - loss: 0.9524 - accuracy: 0.6168 - val_loss: 0.6814 - val_accuracy: 0.7839\n",
      "Epoch 24/10000\n",
      "22/31 [====================>.........] - ETA: 0s - loss: 0.9346 - accuracy: 0.6321\n",
      "Epoch 24: saving model to model/keypoint_classifier\\keypoint_classifier.hdf5\n",
      "31/31 [==============================] - 0s 5ms/step - loss: 0.9351 - accuracy: 0.6345 - val_loss: 0.6659 - val_accuracy: 0.7854\n",
      "Epoch 25/10000\n",
      "27/31 [=========================>....] - ETA: 0s - loss: 0.9344 - accuracy: 0.6212\n",
      "Epoch 25: saving model to model/keypoint_classifier\\keypoint_classifier.hdf5\n",
      "31/31 [==============================] - 0s 6ms/step - loss: 0.9340 - accuracy: 0.6201 - val_loss: 0.6572 - val_accuracy: 0.7938\n",
      "Epoch 26/10000\n",
      "23/31 [=====================>........] - ETA: 0s - loss: 0.9088 - accuracy: 0.6301\n",
      "Epoch 26: saving model to model/keypoint_classifier\\keypoint_classifier.hdf5\n",
      "31/31 [==============================] - 0s 5ms/step - loss: 0.9155 - accuracy: 0.6264 - val_loss: 0.6416 - val_accuracy: 0.7968\n",
      "Epoch 27/10000\n",
      "21/31 [===================>..........] - ETA: 0s - loss: 0.9380 - accuracy: 0.6239\n",
      "Epoch 27: saving model to model/keypoint_classifier\\keypoint_classifier.hdf5\n",
      "31/31 [==============================] - 0s 5ms/step - loss: 0.9203 - accuracy: 0.6335 - val_loss: 0.6365 - val_accuracy: 0.8021\n",
      "Epoch 28/10000\n",
      "22/31 [====================>.........] - ETA: 0s - loss: 0.9063 - accuracy: 0.6392\n",
      "Epoch 28: saving model to model/keypoint_classifier\\keypoint_classifier.hdf5\n",
      "31/31 [==============================] - 0s 5ms/step - loss: 0.9021 - accuracy: 0.6428 - val_loss: 0.6259 - val_accuracy: 0.8067\n",
      "Epoch 29/10000\n",
      "23/31 [=====================>........] - ETA: 0s - loss: 0.9186 - accuracy: 0.6315\n",
      "Epoch 29: saving model to model/keypoint_classifier\\keypoint_classifier.hdf5\n",
      "31/31 [==============================] - 0s 5ms/step - loss: 0.9105 - accuracy: 0.6383 - val_loss: 0.6217 - val_accuracy: 0.8082\n",
      "Epoch 30/10000\n",
      "21/31 [===================>..........] - ETA: 0s - loss: 0.9220 - accuracy: 0.6336\n",
      "Epoch 30: saving model to model/keypoint_classifier\\keypoint_classifier.hdf5\n",
      "31/31 [==============================] - 0s 5ms/step - loss: 0.9142 - accuracy: 0.6431 - val_loss: 0.6130 - val_accuracy: 0.8143\n",
      "Epoch 31/10000\n",
      "23/31 [=====================>........] - ETA: 0s - loss: 0.8842 - accuracy: 0.6505\n",
      "Epoch 31: saving model to model/keypoint_classifier\\keypoint_classifier.hdf5\n",
      "31/31 [==============================] - 0s 5ms/step - loss: 0.8862 - accuracy: 0.6474 - val_loss: 0.6001 - val_accuracy: 0.8112\n",
      "Epoch 32/10000\n",
      "22/31 [====================>.........] - ETA: 0s - loss: 0.8677 - accuracy: 0.6506\n",
      "Epoch 32: saving model to model/keypoint_classifier\\keypoint_classifier.hdf5\n",
      "31/31 [==============================] - 0s 5ms/step - loss: 0.8685 - accuracy: 0.6522 - val_loss: 0.5868 - val_accuracy: 0.8143\n",
      "Epoch 33/10000\n",
      "23/31 [=====================>........] - ETA: 0s - loss: 0.8567 - accuracy: 0.6647\n",
      "Epoch 33: saving model to model/keypoint_classifier\\keypoint_classifier.hdf5\n",
      "31/31 [==============================] - 0s 5ms/step - loss: 0.8686 - accuracy: 0.6590 - val_loss: 0.5849 - val_accuracy: 0.8196\n",
      "Epoch 34/10000\n",
      "22/31 [====================>.........] - ETA: 0s - loss: 0.8720 - accuracy: 0.6598\n",
      "Epoch 34: saving model to model/keypoint_classifier\\keypoint_classifier.hdf5\n",
      "31/31 [==============================] - 0s 5ms/step - loss: 0.8844 - accuracy: 0.6552 - val_loss: 0.5729 - val_accuracy: 0.8302\n",
      "Epoch 35/10000\n",
      "24/31 [======================>.......] - ETA: 0s - loss: 0.8546 - accuracy: 0.6709\n",
      "Epoch 35: saving model to model/keypoint_classifier\\keypoint_classifier.hdf5\n",
      "31/31 [==============================] - 0s 5ms/step - loss: 0.8647 - accuracy: 0.6628 - val_loss: 0.5710 - val_accuracy: 0.8279\n",
      "Epoch 36/10000\n",
      "20/31 [==================>...........] - ETA: 0s - loss: 0.8734 - accuracy: 0.6590\n",
      "Epoch 36: saving model to model/keypoint_classifier\\keypoint_classifier.hdf5\n",
      "31/31 [==============================] - 0s 5ms/step - loss: 0.8669 - accuracy: 0.6615 - val_loss: 0.5613 - val_accuracy: 0.8355\n",
      "Epoch 37/10000\n",
      "23/31 [=====================>........] - ETA: 0s - loss: 0.8391 - accuracy: 0.6671\n",
      "Epoch 37: saving model to model/keypoint_classifier\\keypoint_classifier.hdf5\n",
      "31/31 [==============================] - 0s 5ms/step - loss: 0.8434 - accuracy: 0.6646 - val_loss: 0.5546 - val_accuracy: 0.8385\n",
      "Epoch 38/10000\n",
      "21/31 [===================>..........] - ETA: 0s - loss: 0.8467 - accuracy: 0.6652\n",
      "Epoch 38: saving model to model/keypoint_classifier\\keypoint_classifier.hdf5\n",
      "31/31 [==============================] - 0s 5ms/step - loss: 0.8438 - accuracy: 0.6656 - val_loss: 0.5466 - val_accuracy: 0.8370\n",
      "Epoch 39/10000\n",
      "26/31 [========================>.....] - ETA: 0s - loss: 0.8420 - accuracy: 0.6611\n",
      "Epoch 39: saving model to model/keypoint_classifier\\keypoint_classifier.hdf5\n",
      "31/31 [==============================] - 0s 5ms/step - loss: 0.8358 - accuracy: 0.6671 - val_loss: 0.5395 - val_accuracy: 0.8332\n",
      "Epoch 40/10000\n",
      "25/31 [=======================>......] - ETA: 0s - loss: 0.8512 - accuracy: 0.6628\n",
      "Epoch 40: saving model to model/keypoint_classifier\\keypoint_classifier.hdf5\n",
      "31/31 [==============================] - 0s 6ms/step - loss: 0.8502 - accuracy: 0.6643 - val_loss: 0.5414 - val_accuracy: 0.8378\n",
      "Epoch 41/10000\n",
      "26/31 [========================>.....] - ETA: 0s - loss: 0.8471 - accuracy: 0.6731\n",
      "Epoch 41: saving model to model/keypoint_classifier\\keypoint_classifier.hdf5\n",
      "31/31 [==============================] - 0s 5ms/step - loss: 0.8460 - accuracy: 0.6709 - val_loss: 0.5277 - val_accuracy: 0.8453\n",
      "Epoch 42/10000\n",
      "25/31 [=======================>......] - ETA: 0s - loss: 0.8182 - accuracy: 0.6734\n",
      "Epoch 42: saving model to model/keypoint_classifier\\keypoint_classifier.hdf5\n",
      "31/31 [==============================] - 0s 5ms/step - loss: 0.8217 - accuracy: 0.6775 - val_loss: 0.5278 - val_accuracy: 0.8385\n",
      "Epoch 43/10000\n",
      "21/31 [===================>..........] - ETA: 0s - loss: 0.8285 - accuracy: 0.6749\n",
      "Epoch 43: saving model to model/keypoint_classifier\\keypoint_classifier.hdf5\n",
      "31/31 [==============================] - 0s 5ms/step - loss: 0.8152 - accuracy: 0.6785 - val_loss: 0.5166 - val_accuracy: 0.8446\n",
      "Epoch 44/10000\n",
      "21/31 [===================>..........] - ETA: 0s - loss: 0.8595 - accuracy: 0.6577\n",
      "Epoch 44: saving model to model/keypoint_classifier\\keypoint_classifier.hdf5\n",
      "31/31 [==============================] - 0s 5ms/step - loss: 0.8518 - accuracy: 0.6646 - val_loss: 0.5205 - val_accuracy: 0.8423\n",
      "Epoch 45/10000\n",
      "24/31 [======================>.......] - ETA: 0s - loss: 0.8242 - accuracy: 0.6868\n",
      "Epoch 45: saving model to model/keypoint_classifier\\keypoint_classifier.hdf5\n",
      "31/31 [==============================] - 0s 5ms/step - loss: 0.8324 - accuracy: 0.6810 - val_loss: 0.5155 - val_accuracy: 0.8423\n",
      "Epoch 46/10000\n",
      "21/31 [===================>..........] - ETA: 0s - loss: 0.7917 - accuracy: 0.6905\n",
      "Epoch 46: saving model to model/keypoint_classifier\\keypoint_classifier.hdf5\n",
      "31/31 [==============================] - 0s 5ms/step - loss: 0.8080 - accuracy: 0.6835 - val_loss: 0.5046 - val_accuracy: 0.8491\n",
      "Epoch 47/10000\n",
      "25/31 [=======================>......] - ETA: 0s - loss: 0.8056 - accuracy: 0.6875\n",
      "Epoch 47: saving model to model/keypoint_classifier\\keypoint_classifier.hdf5\n",
      "31/31 [==============================] - 0s 5ms/step - loss: 0.8017 - accuracy: 0.6886 - val_loss: 0.5037 - val_accuracy: 0.8476\n",
      "Epoch 48/10000\n",
      "23/31 [=====================>........] - ETA: 0s - loss: 0.8177 - accuracy: 0.6739\n",
      "Epoch 48: saving model to model/keypoint_classifier\\keypoint_classifier.hdf5\n",
      "31/31 [==============================] - 0s 5ms/step - loss: 0.8136 - accuracy: 0.6797 - val_loss: 0.5004 - val_accuracy: 0.8597\n",
      "Epoch 49/10000\n",
      "22/31 [====================>.........] - ETA: 0s - loss: 0.7979 - accuracy: 0.7021\n",
      "Epoch 49: saving model to model/keypoint_classifier\\keypoint_classifier.hdf5\n",
      "31/31 [==============================] - 0s 5ms/step - loss: 0.8070 - accuracy: 0.6979 - val_loss: 0.4938 - val_accuracy: 0.8567\n",
      "Epoch 50/10000\n",
      "21/31 [===================>..........] - ETA: 0s - loss: 0.8003 - accuracy: 0.6908\n",
      "Epoch 50: saving model to model/keypoint_classifier\\keypoint_classifier.hdf5\n",
      "31/31 [==============================] - 0s 5ms/step - loss: 0.7889 - accuracy: 0.6967 - val_loss: 0.4886 - val_accuracy: 0.8643\n",
      "Epoch 51/10000\n",
      "21/31 [===================>..........] - ETA: 0s - loss: 0.7871 - accuracy: 0.6968\n",
      "Epoch 51: saving model to model/keypoint_classifier\\keypoint_classifier.hdf5\n",
      "31/31 [==============================] - 0s 5ms/step - loss: 0.7916 - accuracy: 0.6926 - val_loss: 0.4800 - val_accuracy: 0.8635\n",
      "Epoch 52/10000\n",
      "26/31 [========================>.....] - ETA: 0s - loss: 0.7985 - accuracy: 0.6884\n",
      "Epoch 52: saving model to model/keypoint_classifier\\keypoint_classifier.hdf5\n",
      "31/31 [==============================] - 0s 5ms/step - loss: 0.7897 - accuracy: 0.6901 - val_loss: 0.4790 - val_accuracy: 0.8688\n",
      "Epoch 53/10000\n",
      "27/31 [=========================>....] - ETA: 0s - loss: 0.7863 - accuracy: 0.6936\n",
      "Epoch 53: saving model to model/keypoint_classifier\\keypoint_classifier.hdf5\n",
      "31/31 [==============================] - 0s 6ms/step - loss: 0.7853 - accuracy: 0.6957 - val_loss: 0.4804 - val_accuracy: 0.8628\n",
      "Epoch 54/10000\n",
      "21/31 [===================>..........] - ETA: 0s - loss: 0.7834 - accuracy: 0.6953\n",
      "Epoch 54: saving model to model/keypoint_classifier\\keypoint_classifier.hdf5\n",
      "31/31 [==============================] - 0s 5ms/step - loss: 0.7764 - accuracy: 0.6957 - val_loss: 0.4710 - val_accuracy: 0.8635\n",
      "Epoch 55/10000\n",
      "24/31 [======================>.......] - ETA: 0s - loss: 0.7838 - accuracy: 0.6956\n",
      "Epoch 55: saving model to model/keypoint_classifier\\keypoint_classifier.hdf5\n",
      "31/31 [==============================] - 0s 5ms/step - loss: 0.7921 - accuracy: 0.6921 - val_loss: 0.4684 - val_accuracy: 0.8658\n",
      "Epoch 56/10000\n",
      "22/31 [====================>.........] - ETA: 0s - loss: 0.7859 - accuracy: 0.6957\n",
      "Epoch 56: saving model to model/keypoint_classifier\\keypoint_classifier.hdf5\n",
      "31/31 [==============================] - 0s 5ms/step - loss: 0.7917 - accuracy: 0.6919 - val_loss: 0.4744 - val_accuracy: 0.8658\n",
      "Epoch 57/10000\n",
      "25/31 [=======================>......] - ETA: 0s - loss: 0.7742 - accuracy: 0.6975\n",
      "Epoch 57: saving model to model/keypoint_classifier\\keypoint_classifier.hdf5\n",
      "31/31 [==============================] - 0s 5ms/step - loss: 0.7729 - accuracy: 0.6964 - val_loss: 0.4595 - val_accuracy: 0.8704\n",
      "Epoch 58/10000\n",
      "20/31 [==================>...........] - ETA: 0s - loss: 0.7417 - accuracy: 0.7180\n",
      "Epoch 58: saving model to model/keypoint_classifier\\keypoint_classifier.hdf5\n",
      "31/31 [==============================] - 0s 5ms/step - loss: 0.7500 - accuracy: 0.7141 - val_loss: 0.4562 - val_accuracy: 0.8696\n",
      "Epoch 59/10000\n",
      "22/31 [====================>.........] - ETA: 0s - loss: 0.7816 - accuracy: 0.6978\n",
      "Epoch 59: saving model to model/keypoint_classifier\\keypoint_classifier.hdf5\n",
      "31/31 [==============================] - 0s 5ms/step - loss: 0.7846 - accuracy: 0.7007 - val_loss: 0.4579 - val_accuracy: 0.8719\n",
      "Epoch 60/10000\n",
      "26/31 [========================>.....] - ETA: 0s - loss: 0.7598 - accuracy: 0.7058\n",
      "Epoch 60: saving model to model/keypoint_classifier\\keypoint_classifier.hdf5\n",
      "31/31 [==============================] - 0s 5ms/step - loss: 0.7561 - accuracy: 0.7075 - val_loss: 0.4546 - val_accuracy: 0.8681\n",
      "Epoch 61/10000\n",
      "21/31 [===================>..........] - ETA: 0s - loss: 0.7513 - accuracy: 0.7139\n",
      "Epoch 61: saving model to model/keypoint_classifier\\keypoint_classifier.hdf5\n",
      "31/31 [==============================] - 0s 6ms/step - loss: 0.7618 - accuracy: 0.7073 - val_loss: 0.4452 - val_accuracy: 0.8802\n",
      "Epoch 62/10000\n",
      "19/31 [=================>............] - ETA: 0s - loss: 0.7823 - accuracy: 0.6896\n",
      "Epoch 62: saving model to model/keypoint_classifier\\keypoint_classifier.hdf5\n",
      "31/31 [==============================] - 0s 5ms/step - loss: 0.7777 - accuracy: 0.6962 - val_loss: 0.4548 - val_accuracy: 0.8726\n",
      "Epoch 63/10000\n",
      "24/31 [======================>.......] - ETA: 0s - loss: 0.7560 - accuracy: 0.7119\n",
      "Epoch 63: saving model to model/keypoint_classifier\\keypoint_classifier.hdf5\n",
      "31/31 [==============================] - 0s 6ms/step - loss: 0.7524 - accuracy: 0.7111 - val_loss: 0.4438 - val_accuracy: 0.8787\n",
      "Epoch 64/10000\n",
      "25/31 [=======================>......] - ETA: 0s - loss: 0.7667 - accuracy: 0.7034\n",
      "Epoch 64: saving model to model/keypoint_classifier\\keypoint_classifier.hdf5\n",
      "31/31 [==============================] - 0s 5ms/step - loss: 0.7724 - accuracy: 0.7010 - val_loss: 0.4471 - val_accuracy: 0.8749\n",
      "Epoch 65/10000\n",
      "21/31 [===================>..........] - ETA: 0s - loss: 0.7602 - accuracy: 0.7121\n",
      "Epoch 65: saving model to model/keypoint_classifier\\keypoint_classifier.hdf5\n",
      "31/31 [==============================] - 0s 5ms/step - loss: 0.7607 - accuracy: 0.7131 - val_loss: 0.4417 - val_accuracy: 0.8825\n",
      "Epoch 66/10000\n",
      "21/31 [===================>..........] - ETA: 0s - loss: 0.7306 - accuracy: 0.7158\n",
      "Epoch 66: saving model to model/keypoint_classifier\\keypoint_classifier.hdf5\n",
      "31/31 [==============================] - 0s 5ms/step - loss: 0.7390 - accuracy: 0.7141 - val_loss: 0.4367 - val_accuracy: 0.8734\n",
      "Epoch 67/10000\n",
      "24/31 [======================>.......] - ETA: 0s - loss: 0.7678 - accuracy: 0.7005\n",
      "Epoch 67: saving model to model/keypoint_classifier\\keypoint_classifier.hdf5\n",
      "31/31 [==============================] - 0s 5ms/step - loss: 0.7659 - accuracy: 0.7020 - val_loss: 0.4340 - val_accuracy: 0.8779\n",
      "Epoch 68/10000\n",
      "21/31 [===================>..........] - ETA: 0s - loss: 0.7356 - accuracy: 0.7214\n",
      "Epoch 68: saving model to model/keypoint_classifier\\keypoint_classifier.hdf5\n",
      "31/31 [==============================] - 0s 5ms/step - loss: 0.7349 - accuracy: 0.7146 - val_loss: 0.4269 - val_accuracy: 0.8832\n",
      "Epoch 69/10000\n",
      "21/31 [===================>..........] - ETA: 0s - loss: 0.7649 - accuracy: 0.7154\n",
      "Epoch 69: saving model to model/keypoint_classifier\\keypoint_classifier.hdf5\n",
      "31/31 [==============================] - 0s 5ms/step - loss: 0.7589 - accuracy: 0.7141 - val_loss: 0.4258 - val_accuracy: 0.8832\n",
      "Epoch 70/10000\n",
      "25/31 [=======================>......] - ETA: 0s - loss: 0.7469 - accuracy: 0.7159\n",
      "Epoch 70: saving model to model/keypoint_classifier\\keypoint_classifier.hdf5\n",
      "31/31 [==============================] - 0s 5ms/step - loss: 0.7481 - accuracy: 0.7197 - val_loss: 0.4245 - val_accuracy: 0.8802\n",
      "Epoch 71/10000\n",
      "22/31 [====================>.........] - ETA: 0s - loss: 0.7535 - accuracy: 0.7116\n",
      "Epoch 71: saving model to model/keypoint_classifier\\keypoint_classifier.hdf5\n",
      "31/31 [==============================] - 0s 5ms/step - loss: 0.7531 - accuracy: 0.7116 - val_loss: 0.4233 - val_accuracy: 0.8757\n",
      "Epoch 72/10000\n",
      "23/31 [=====================>........] - ETA: 0s - loss: 0.7485 - accuracy: 0.7160\n",
      "Epoch 72: saving model to model/keypoint_classifier\\keypoint_classifier.hdf5\n",
      "31/31 [==============================] - 0s 7ms/step - loss: 0.7406 - accuracy: 0.7164 - val_loss: 0.4274 - val_accuracy: 0.8711\n",
      "Epoch 73/10000\n",
      "27/31 [=========================>....] - ETA: 0s - loss: 0.7312 - accuracy: 0.7112\n",
      "Epoch 73: saving model to model/keypoint_classifier\\keypoint_classifier.hdf5\n",
      "31/31 [==============================] - 0s 5ms/step - loss: 0.7395 - accuracy: 0.7118 - val_loss: 0.4241 - val_accuracy: 0.8741\n",
      "Epoch 74/10000\n",
      "23/31 [=====================>........] - ETA: 0s - loss: 0.7594 - accuracy: 0.7167\n",
      "Epoch 74: saving model to model/keypoint_classifier\\keypoint_classifier.hdf5\n",
      "31/31 [==============================] - 0s 5ms/step - loss: 0.7610 - accuracy: 0.7126 - val_loss: 0.4218 - val_accuracy: 0.8696\n",
      "Epoch 75/10000\n",
      "27/31 [=========================>....] - ETA: 0s - loss: 0.7232 - accuracy: 0.7202\n",
      "Epoch 75: saving model to model/keypoint_classifier\\keypoint_classifier.hdf5\n",
      "31/31 [==============================] - 0s 5ms/step - loss: 0.7198 - accuracy: 0.7235 - val_loss: 0.4143 - val_accuracy: 0.8802\n",
      "Epoch 76/10000\n",
      "21/31 [===================>..........] - ETA: 0s - loss: 0.7445 - accuracy: 0.7191\n",
      "Epoch 76: saving model to model/keypoint_classifier\\keypoint_classifier.hdf5\n",
      "31/31 [==============================] - 0s 5ms/step - loss: 0.7324 - accuracy: 0.7217 - val_loss: 0.4155 - val_accuracy: 0.8779\n",
      "Epoch 77/10000\n",
      "22/31 [====================>.........] - ETA: 0s - loss: 0.7719 - accuracy: 0.7045\n",
      "Epoch 77: saving model to model/keypoint_classifier\\keypoint_classifier.hdf5\n",
      "31/31 [==============================] - 0s 5ms/step - loss: 0.7593 - accuracy: 0.6997 - val_loss: 0.4199 - val_accuracy: 0.8772\n",
      "Epoch 78/10000\n",
      "24/31 [======================>.......] - ETA: 0s - loss: 0.7264 - accuracy: 0.7161\n",
      "Epoch 78: saving model to model/keypoint_classifier\\keypoint_classifier.hdf5\n",
      "31/31 [==============================] - 0s 5ms/step - loss: 0.7248 - accuracy: 0.7174 - val_loss: 0.4127 - val_accuracy: 0.8855\n",
      "Epoch 79/10000\n",
      "22/31 [====================>.........] - ETA: 0s - loss: 0.7446 - accuracy: 0.7173\n",
      "Epoch 79: saving model to model/keypoint_classifier\\keypoint_classifier.hdf5\n",
      "31/31 [==============================] - 0s 5ms/step - loss: 0.7401 - accuracy: 0.7214 - val_loss: 0.4073 - val_accuracy: 0.8939\n",
      "Epoch 80/10000\n",
      "23/31 [=====================>........] - ETA: 0s - loss: 0.7293 - accuracy: 0.7235\n",
      "Epoch 80: saving model to model/keypoint_classifier\\keypoint_classifier.hdf5\n",
      "31/31 [==============================] - 0s 6ms/step - loss: 0.7236 - accuracy: 0.7275 - val_loss: 0.4082 - val_accuracy: 0.8855\n",
      "Epoch 81/10000\n",
      "25/31 [=======================>......] - ETA: 0s - loss: 0.7327 - accuracy: 0.7122\n",
      "Epoch 81: saving model to model/keypoint_classifier\\keypoint_classifier.hdf5\n",
      "31/31 [==============================] - 0s 5ms/step - loss: 0.7340 - accuracy: 0.7159 - val_loss: 0.3991 - val_accuracy: 0.8825\n",
      "Epoch 82/10000\n",
      "23/31 [=====================>........] - ETA: 0s - loss: 0.7157 - accuracy: 0.7211\n",
      "Epoch 82: saving model to model/keypoint_classifier\\keypoint_classifier.hdf5\n",
      "31/31 [==============================] - 0s 6ms/step - loss: 0.7189 - accuracy: 0.7176 - val_loss: 0.4010 - val_accuracy: 0.8878\n",
      "Epoch 83/10000\n",
      "19/31 [=================>............] - ETA: 0s - loss: 0.7174 - accuracy: 0.7315\n",
      "Epoch 83: saving model to model/keypoint_classifier\\keypoint_classifier.hdf5\n",
      "31/31 [==============================] - 0s 6ms/step - loss: 0.7382 - accuracy: 0.7184 - val_loss: 0.4008 - val_accuracy: 0.9022\n",
      "Epoch 84/10000\n",
      "19/31 [=================>............] - ETA: 0s - loss: 0.7093 - accuracy: 0.7331\n",
      "Epoch 84: saving model to model/keypoint_classifier\\keypoint_classifier.hdf5\n",
      "31/31 [==============================] - 0s 5ms/step - loss: 0.6999 - accuracy: 0.7336 - val_loss: 0.3983 - val_accuracy: 0.9052\n",
      "Epoch 85/10000\n",
      "19/31 [=================>............] - ETA: 0s - loss: 0.7342 - accuracy: 0.7171\n",
      "Epoch 85: saving model to model/keypoint_classifier\\keypoint_classifier.hdf5\n",
      "31/31 [==============================] - 0s 5ms/step - loss: 0.7312 - accuracy: 0.7189 - val_loss: 0.3966 - val_accuracy: 0.9067\n",
      "Epoch 86/10000\n",
      "21/31 [===================>..........] - ETA: 0s - loss: 0.7144 - accuracy: 0.7325\n",
      "Epoch 86: saving model to model/keypoint_classifier\\keypoint_classifier.hdf5\n",
      "31/31 [==============================] - 0s 5ms/step - loss: 0.7134 - accuracy: 0.7310 - val_loss: 0.4038 - val_accuracy: 0.9014\n",
      "Epoch 87/10000\n",
      "22/31 [====================>.........] - ETA: 0s - loss: 0.6935 - accuracy: 0.7425\n",
      "Epoch 87: saving model to model/keypoint_classifier\\keypoint_classifier.hdf5\n",
      "31/31 [==============================] - 0s 5ms/step - loss: 0.7130 - accuracy: 0.7310 - val_loss: 0.3928 - val_accuracy: 0.9037\n",
      "Epoch 88/10000\n",
      "25/31 [=======================>......] - ETA: 0s - loss: 0.7368 - accuracy: 0.7216\n",
      "Epoch 88: saving model to model/keypoint_classifier\\keypoint_classifier.hdf5\n",
      "31/31 [==============================] - 0s 7ms/step - loss: 0.7281 - accuracy: 0.7232 - val_loss: 0.3962 - val_accuracy: 0.8984\n",
      "Epoch 89/10000\n",
      "27/31 [=========================>....] - ETA: 0s - loss: 0.7138 - accuracy: 0.7312\n",
      "Epoch 89: saving model to model/keypoint_classifier\\keypoint_classifier.hdf5\n",
      "31/31 [==============================] - 0s 5ms/step - loss: 0.7133 - accuracy: 0.7313 - val_loss: 0.3951 - val_accuracy: 0.8954\n",
      "Epoch 90/10000\n",
      "21/31 [===================>..........] - ETA: 0s - loss: 0.7090 - accuracy: 0.7336\n",
      "Epoch 90: saving model to model/keypoint_classifier\\keypoint_classifier.hdf5\n",
      "31/31 [==============================] - 0s 5ms/step - loss: 0.7243 - accuracy: 0.7219 - val_loss: 0.3878 - val_accuracy: 0.9030\n",
      "Epoch 91/10000\n",
      "20/31 [==================>...........] - ETA: 0s - loss: 0.7192 - accuracy: 0.7285\n",
      "Epoch 91: saving model to model/keypoint_classifier\\keypoint_classifier.hdf5\n",
      "31/31 [==============================] - 0s 5ms/step - loss: 0.7261 - accuracy: 0.7219 - val_loss: 0.3903 - val_accuracy: 0.9060\n",
      "Epoch 92/10000\n",
      "22/31 [====================>.........] - ETA: 0s - loss: 0.7553 - accuracy: 0.7113\n",
      "Epoch 92: saving model to model/keypoint_classifier\\keypoint_classifier.hdf5\n",
      "31/31 [==============================] - 0s 5ms/step - loss: 0.7468 - accuracy: 0.7184 - val_loss: 0.3880 - val_accuracy: 0.9075\n",
      "Epoch 93/10000\n",
      "22/31 [====================>.........] - ETA: 0s - loss: 0.7175 - accuracy: 0.7308\n",
      "Epoch 93: saving model to model/keypoint_classifier\\keypoint_classifier.hdf5\n",
      "31/31 [==============================] - 0s 5ms/step - loss: 0.7144 - accuracy: 0.7303 - val_loss: 0.3867 - val_accuracy: 0.8992\n",
      "Epoch 94/10000\n",
      "29/31 [===========================>..] - ETA: 0s - loss: 0.7016 - accuracy: 0.7317\n",
      "Epoch 94: saving model to model/keypoint_classifier\\keypoint_classifier.hdf5\n",
      "31/31 [==============================] - 0s 6ms/step - loss: 0.7019 - accuracy: 0.7298 - val_loss: 0.3818 - val_accuracy: 0.8999\n",
      "Epoch 95/10000\n",
      "23/31 [=====================>........] - ETA: 0s - loss: 0.7132 - accuracy: 0.7283\n",
      "Epoch 95: saving model to model/keypoint_classifier\\keypoint_classifier.hdf5\n",
      "31/31 [==============================] - 0s 5ms/step - loss: 0.7290 - accuracy: 0.7252 - val_loss: 0.3833 - val_accuracy: 0.9128\n",
      "Epoch 96/10000\n",
      "26/31 [========================>.....] - ETA: 0s - loss: 0.6986 - accuracy: 0.7278\n",
      "Epoch 96: saving model to model/keypoint_classifier\\keypoint_classifier.hdf5\n",
      "31/31 [==============================] - 0s 5ms/step - loss: 0.6983 - accuracy: 0.7257 - val_loss: 0.3870 - val_accuracy: 0.9121\n",
      "Epoch 97/10000\n",
      "27/31 [=========================>....] - ETA: 0s - loss: 0.7146 - accuracy: 0.7309\n",
      "Epoch 97: saving model to model/keypoint_classifier\\keypoint_classifier.hdf5\n",
      "31/31 [==============================] - 0s 5ms/step - loss: 0.7261 - accuracy: 0.7267 - val_loss: 0.3726 - val_accuracy: 0.9204\n",
      "Epoch 98/10000\n",
      "22/31 [====================>.........] - ETA: 0s - loss: 0.6997 - accuracy: 0.7376\n",
      "Epoch 98: saving model to model/keypoint_classifier\\keypoint_classifier.hdf5\n",
      "31/31 [==============================] - 0s 5ms/step - loss: 0.6919 - accuracy: 0.7437 - val_loss: 0.3895 - val_accuracy: 0.9113\n",
      "Epoch 99/10000\n",
      "25/31 [=======================>......] - ETA: 0s - loss: 0.7075 - accuracy: 0.7266\n",
      "Epoch 99: saving model to model/keypoint_classifier\\keypoint_classifier.hdf5\n",
      "31/31 [==============================] - 0s 5ms/step - loss: 0.7052 - accuracy: 0.7260 - val_loss: 0.3823 - val_accuracy: 0.9166\n",
      "Epoch 100/10000\n",
      "22/31 [====================>.........] - ETA: 0s - loss: 0.6706 - accuracy: 0.7393\n",
      "Epoch 100: saving model to model/keypoint_classifier\\keypoint_classifier.hdf5\n",
      "31/31 [==============================] - 0s 5ms/step - loss: 0.6758 - accuracy: 0.7379 - val_loss: 0.3725 - val_accuracy: 0.9143\n",
      "Epoch 101/10000\n",
      "30/31 [============================>.] - ETA: 0s - loss: 0.7013 - accuracy: 0.7333\n",
      "Epoch 101: saving model to model/keypoint_classifier\\keypoint_classifier.hdf5\n",
      "31/31 [==============================] - 0s 7ms/step - loss: 0.6994 - accuracy: 0.7338 - val_loss: 0.3887 - val_accuracy: 0.9098\n",
      "Epoch 102/10000\n",
      "20/31 [==================>...........] - ETA: 0s - loss: 0.7298 - accuracy: 0.7211\n",
      "Epoch 102: saving model to model/keypoint_classifier\\keypoint_classifier.hdf5\n",
      "31/31 [==============================] - 0s 5ms/step - loss: 0.7059 - accuracy: 0.7290 - val_loss: 0.3819 - val_accuracy: 0.9113\n",
      "Epoch 103/10000\n",
      "25/31 [=======================>......] - ETA: 0s - loss: 0.6966 - accuracy: 0.7356\n",
      "Epoch 103: saving model to model/keypoint_classifier\\keypoint_classifier.hdf5\n",
      "31/31 [==============================] - 0s 5ms/step - loss: 0.6911 - accuracy: 0.7376 - val_loss: 0.3765 - val_accuracy: 0.8992\n",
      "Epoch 104/10000\n",
      "22/31 [====================>.........] - ETA: 0s - loss: 0.6994 - accuracy: 0.7244\n",
      "Epoch 104: saving model to model/keypoint_classifier\\keypoint_classifier.hdf5\n",
      "31/31 [==============================] - 0s 5ms/step - loss: 0.6903 - accuracy: 0.7336 - val_loss: 0.3751 - val_accuracy: 0.9090\n",
      "Epoch 105/10000\n",
      "24/31 [======================>.......] - ETA: 0s - loss: 0.6963 - accuracy: 0.7301\n",
      "Epoch 105: saving model to model/keypoint_classifier\\keypoint_classifier.hdf5\n",
      "31/31 [==============================] - 0s 5ms/step - loss: 0.6953 - accuracy: 0.7353 - val_loss: 0.3795 - val_accuracy: 0.9045\n",
      "Epoch 106/10000\n",
      "21/31 [===================>..........] - ETA: 0s - loss: 0.7082 - accuracy: 0.7266\n",
      "Epoch 106: saving model to model/keypoint_classifier\\keypoint_classifier.hdf5\n",
      "31/31 [==============================] - 0s 5ms/step - loss: 0.7055 - accuracy: 0.7328 - val_loss: 0.3783 - val_accuracy: 0.9045\n",
      "Epoch 107/10000\n",
      "29/31 [===========================>..] - ETA: 0s - loss: 0.7058 - accuracy: 0.7303\n",
      "Epoch 107: saving model to model/keypoint_classifier\\keypoint_classifier.hdf5\n",
      "31/31 [==============================] - 0s 7ms/step - loss: 0.7020 - accuracy: 0.7303 - val_loss: 0.3756 - val_accuracy: 0.9067\n",
      "Epoch 108/10000\n",
      "21/31 [===================>..........] - ETA: 0s - loss: 0.6992 - accuracy: 0.7321\n",
      "Epoch 108: saving model to model/keypoint_classifier\\keypoint_classifier.hdf5\n",
      "31/31 [==============================] - 0s 5ms/step - loss: 0.6902 - accuracy: 0.7366 - val_loss: 0.3701 - val_accuracy: 0.9121\n",
      "Epoch 109/10000\n",
      "22/31 [====================>.........] - ETA: 0s - loss: 0.7018 - accuracy: 0.7422\n",
      "Epoch 109: saving model to model/keypoint_classifier\\keypoint_classifier.hdf5\n",
      "31/31 [==============================] - 0s 5ms/step - loss: 0.6995 - accuracy: 0.7384 - val_loss: 0.3780 - val_accuracy: 0.9067\n",
      "Epoch 110/10000\n",
      "22/31 [====================>.........] - ETA: 0s - loss: 0.6784 - accuracy: 0.7369\n",
      "Epoch 110: saving model to model/keypoint_classifier\\keypoint_classifier.hdf5\n",
      "31/31 [==============================] - 0s 5ms/step - loss: 0.6781 - accuracy: 0.7366 - val_loss: 0.3748 - val_accuracy: 0.9136\n",
      "Epoch 111/10000\n",
      "23/31 [=====================>........] - ETA: 0s - loss: 0.6829 - accuracy: 0.7351\n",
      "Epoch 111: saving model to model/keypoint_classifier\\keypoint_classifier.hdf5\n",
      "31/31 [==============================] - 0s 5ms/step - loss: 0.6916 - accuracy: 0.7303 - val_loss: 0.3711 - val_accuracy: 0.9128\n",
      "Epoch 112/10000\n",
      "23/31 [=====================>........] - ETA: 0s - loss: 0.6874 - accuracy: 0.7330\n",
      "Epoch 112: saving model to model/keypoint_classifier\\keypoint_classifier.hdf5\n",
      "31/31 [==============================] - 0s 5ms/step - loss: 0.6837 - accuracy: 0.7343 - val_loss: 0.3738 - val_accuracy: 0.9174\n",
      "Epoch 113/10000\n",
      "23/31 [=====================>........] - ETA: 0s - loss: 0.7121 - accuracy: 0.7351\n",
      "Epoch 113: saving model to model/keypoint_classifier\\keypoint_classifier.hdf5\n",
      "31/31 [==============================] - 0s 6ms/step - loss: 0.6968 - accuracy: 0.7406 - val_loss: 0.3696 - val_accuracy: 0.9166\n",
      "Epoch 114/10000\n",
      "23/31 [=====================>........] - ETA: 0s - loss: 0.6742 - accuracy: 0.7439\n",
      "Epoch 114: saving model to model/keypoint_classifier\\keypoint_classifier.hdf5\n",
      "31/31 [==============================] - 0s 5ms/step - loss: 0.6803 - accuracy: 0.7363 - val_loss: 0.3676 - val_accuracy: 0.9128\n",
      "Epoch 115/10000\n",
      "22/31 [====================>.........] - ETA: 0s - loss: 0.6900 - accuracy: 0.7376\n",
      "Epoch 115: saving model to model/keypoint_classifier\\keypoint_classifier.hdf5\n",
      "31/31 [==============================] - 0s 5ms/step - loss: 0.6912 - accuracy: 0.7363 - val_loss: 0.3649 - val_accuracy: 0.9181\n",
      "Epoch 116/10000\n",
      "24/31 [======================>.......] - ETA: 0s - loss: 0.6528 - accuracy: 0.7516\n",
      "Epoch 116: saving model to model/keypoint_classifier\\keypoint_classifier.hdf5\n",
      "31/31 [==============================] - 0s 5ms/step - loss: 0.6658 - accuracy: 0.7475 - val_loss: 0.3624 - val_accuracy: 0.9083\n",
      "Epoch 117/10000\n",
      "21/31 [===================>..........] - ETA: 0s - loss: 0.7053 - accuracy: 0.7236\n",
      "Epoch 117: saving model to model/keypoint_classifier\\keypoint_classifier.hdf5\n",
      "31/31 [==============================] - 0s 5ms/step - loss: 0.6957 - accuracy: 0.7333 - val_loss: 0.3656 - val_accuracy: 0.9128\n",
      "Epoch 118/10000\n",
      "20/31 [==================>...........] - ETA: 0s - loss: 0.6851 - accuracy: 0.7402\n",
      "Epoch 118: saving model to model/keypoint_classifier\\keypoint_classifier.hdf5\n",
      "31/31 [==============================] - 0s 5ms/step - loss: 0.6715 - accuracy: 0.7465 - val_loss: 0.3556 - val_accuracy: 0.9181\n",
      "Epoch 119/10000\n",
      "24/31 [======================>.......] - ETA: 0s - loss: 0.7259 - accuracy: 0.7298\n",
      "Epoch 119: saving model to model/keypoint_classifier\\keypoint_classifier.hdf5\n",
      "31/31 [==============================] - 0s 7ms/step - loss: 0.7015 - accuracy: 0.7401 - val_loss: 0.3653 - val_accuracy: 0.9158\n",
      "Epoch 120/10000\n",
      "25/31 [=======================>......] - ETA: 0s - loss: 0.6726 - accuracy: 0.7397\n",
      "Epoch 120: saving model to model/keypoint_classifier\\keypoint_classifier.hdf5\n",
      "31/31 [==============================] - 0s 5ms/step - loss: 0.6681 - accuracy: 0.7399 - val_loss: 0.3537 - val_accuracy: 0.9234\n",
      "Epoch 121/10000\n",
      "21/31 [===================>..........] - ETA: 0s - loss: 0.6978 - accuracy: 0.7340\n",
      "Epoch 121: saving model to model/keypoint_classifier\\keypoint_classifier.hdf5\n",
      "31/31 [==============================] - 0s 5ms/step - loss: 0.6843 - accuracy: 0.7379 - val_loss: 0.3671 - val_accuracy: 0.9166\n",
      "Epoch 122/10000\n",
      "27/31 [=========================>....] - ETA: 0s - loss: 0.6861 - accuracy: 0.7390\n",
      "Epoch 122: saving model to model/keypoint_classifier\\keypoint_classifier.hdf5\n",
      "31/31 [==============================] - 0s 5ms/step - loss: 0.6957 - accuracy: 0.7338 - val_loss: 0.3571 - val_accuracy: 0.9287\n",
      "Epoch 123/10000\n",
      "20/31 [==================>...........] - ETA: 0s - loss: 0.6755 - accuracy: 0.7418\n",
      "Epoch 123: saving model to model/keypoint_classifier\\keypoint_classifier.hdf5\n",
      "31/31 [==============================] - 0s 5ms/step - loss: 0.6771 - accuracy: 0.7442 - val_loss: 0.3658 - val_accuracy: 0.9189\n",
      "Epoch 124/10000\n",
      "24/31 [======================>.......] - ETA: 0s - loss: 0.6761 - accuracy: 0.7435\n",
      "Epoch 124: saving model to model/keypoint_classifier\\keypoint_classifier.hdf5\n",
      "31/31 [==============================] - 0s 6ms/step - loss: 0.6702 - accuracy: 0.7475 - val_loss: 0.3567 - val_accuracy: 0.9151\n",
      "Epoch 125/10000\n",
      "20/31 [==================>...........] - ETA: 0s - loss: 0.6682 - accuracy: 0.7305\n",
      "Epoch 125: saving model to model/keypoint_classifier\\keypoint_classifier.hdf5\n",
      "31/31 [==============================] - 0s 5ms/step - loss: 0.6670 - accuracy: 0.7374 - val_loss: 0.3516 - val_accuracy: 0.9196\n",
      "Epoch 126/10000\n",
      "24/31 [======================>.......] - ETA: 0s - loss: 0.6819 - accuracy: 0.7406\n",
      "Epoch 126: saving model to model/keypoint_classifier\\keypoint_classifier.hdf5\n",
      "31/31 [==============================] - 0s 5ms/step - loss: 0.6652 - accuracy: 0.7475 - val_loss: 0.3541 - val_accuracy: 0.9189\n",
      "Epoch 127/10000\n",
      "25/31 [=======================>......] - ETA: 0s - loss: 0.6931 - accuracy: 0.7262\n",
      "Epoch 127: saving model to model/keypoint_classifier\\keypoint_classifier.hdf5\n",
      "31/31 [==============================] - 0s 5ms/step - loss: 0.6871 - accuracy: 0.7257 - val_loss: 0.3613 - val_accuracy: 0.9105\n",
      "Epoch 128/10000\n",
      "22/31 [====================>.........] - ETA: 0s - loss: 0.6571 - accuracy: 0.7454\n",
      "Epoch 128: saving model to model/keypoint_classifier\\keypoint_classifier.hdf5\n",
      "31/31 [==============================] - 0s 5ms/step - loss: 0.6629 - accuracy: 0.7396 - val_loss: 0.3519 - val_accuracy: 0.9181\n",
      "Epoch 129/10000\n",
      "23/31 [=====================>........] - ETA: 0s - loss: 0.6838 - accuracy: 0.7388\n",
      "Epoch 129: saving model to model/keypoint_classifier\\keypoint_classifier.hdf5\n",
      "31/31 [==============================] - 0s 6ms/step - loss: 0.6780 - accuracy: 0.7417 - val_loss: 0.3574 - val_accuracy: 0.9174\n",
      "Epoch 130/10000\n",
      "25/31 [=======================>......] - ETA: 0s - loss: 0.6843 - accuracy: 0.7337\n",
      "Epoch 130: saving model to model/keypoint_classifier\\keypoint_classifier.hdf5\n",
      "31/31 [==============================] - 0s 5ms/step - loss: 0.6851 - accuracy: 0.7363 - val_loss: 0.3509 - val_accuracy: 0.9325\n",
      "Epoch 131/10000\n",
      "22/31 [====================>.........] - ETA: 0s - loss: 0.6471 - accuracy: 0.7546\n",
      "Epoch 131: saving model to model/keypoint_classifier\\keypoint_classifier.hdf5\n",
      "31/31 [==============================] - 0s 5ms/step - loss: 0.6663 - accuracy: 0.7497 - val_loss: 0.3458 - val_accuracy: 0.9265\n",
      "Epoch 132/10000\n",
      "21/31 [===================>..........] - ETA: 0s - loss: 0.6779 - accuracy: 0.7440\n",
      "Epoch 132: saving model to model/keypoint_classifier\\keypoint_classifier.hdf5\n",
      "31/31 [==============================] - 0s 5ms/step - loss: 0.6699 - accuracy: 0.7454 - val_loss: 0.3479 - val_accuracy: 0.9242\n",
      "Epoch 133/10000\n",
      "21/31 [===================>..........] - ETA: 0s - loss: 0.6693 - accuracy: 0.7489\n",
      "Epoch 133: saving model to model/keypoint_classifier\\keypoint_classifier.hdf5\n",
      "31/31 [==============================] - 0s 5ms/step - loss: 0.6633 - accuracy: 0.7513 - val_loss: 0.3445 - val_accuracy: 0.9227\n",
      "Epoch 134/10000\n",
      "29/31 [===========================>..] - ETA: 0s - loss: 0.6790 - accuracy: 0.7325\n",
      "Epoch 134: saving model to model/keypoint_classifier\\keypoint_classifier.hdf5\n",
      "31/31 [==============================] - 0s 7ms/step - loss: 0.6797 - accuracy: 0.7298 - val_loss: 0.3484 - val_accuracy: 0.9257\n",
      "Epoch 135/10000\n",
      "22/31 [====================>.........] - ETA: 0s - loss: 0.6779 - accuracy: 0.7440\n",
      "Epoch 135: saving model to model/keypoint_classifier\\keypoint_classifier.hdf5\n",
      "31/31 [==============================] - 0s 5ms/step - loss: 0.6718 - accuracy: 0.7465 - val_loss: 0.3519 - val_accuracy: 0.9227\n",
      "Epoch 136/10000\n",
      "22/31 [====================>.........] - ETA: 0s - loss: 0.6573 - accuracy: 0.7415\n",
      "Epoch 136: saving model to model/keypoint_classifier\\keypoint_classifier.hdf5\n",
      "31/31 [==============================] - 0s 5ms/step - loss: 0.6639 - accuracy: 0.7429 - val_loss: 0.3444 - val_accuracy: 0.9227\n",
      "Epoch 137/10000\n",
      "19/31 [=================>............] - ETA: 0s - loss: 0.6865 - accuracy: 0.7418\n",
      "Epoch 137: saving model to model/keypoint_classifier\\keypoint_classifier.hdf5\n",
      "31/31 [==============================] - 0s 6ms/step - loss: 0.6818 - accuracy: 0.7389 - val_loss: 0.3528 - val_accuracy: 0.9166\n",
      "Epoch 138/10000\n",
      "30/31 [============================>.] - ETA: 0s - loss: 0.6654 - accuracy: 0.7401\n",
      "Epoch 138: saving model to model/keypoint_classifier\\keypoint_classifier.hdf5\n",
      "31/31 [==============================] - 0s 7ms/step - loss: 0.6646 - accuracy: 0.7409 - val_loss: 0.3458 - val_accuracy: 0.9287\n",
      "Epoch 139/10000\n",
      "25/31 [=======================>......] - ETA: 0s - loss: 0.6754 - accuracy: 0.7447\n",
      "Epoch 139: saving model to model/keypoint_classifier\\keypoint_classifier.hdf5\n",
      "31/31 [==============================] - 0s 7ms/step - loss: 0.6657 - accuracy: 0.7475 - val_loss: 0.3504 - val_accuracy: 0.9257\n",
      "Epoch 140/10000\n",
      "24/31 [======================>.......] - ETA: 0s - loss: 0.6751 - accuracy: 0.7451\n",
      "Epoch 140: saving model to model/keypoint_classifier\\keypoint_classifier.hdf5\n",
      "31/31 [==============================] - 0s 5ms/step - loss: 0.6700 - accuracy: 0.7465 - val_loss: 0.3438 - val_accuracy: 0.9280\n",
      "Epoch 141/10000\n",
      "22/31 [====================>.........] - ETA: 0s - loss: 0.6783 - accuracy: 0.7301\n",
      "Epoch 141: saving model to model/keypoint_classifier\\keypoint_classifier.hdf5\n",
      "31/31 [==============================] - 0s 5ms/step - loss: 0.6793 - accuracy: 0.7351 - val_loss: 0.3488 - val_accuracy: 0.9234\n",
      "Epoch 142/10000\n",
      "23/31 [=====================>........] - ETA: 0s - loss: 0.6819 - accuracy: 0.7408\n",
      "Epoch 142: saving model to model/keypoint_classifier\\keypoint_classifier.hdf5\n",
      "31/31 [==============================] - 0s 5ms/step - loss: 0.6743 - accuracy: 0.7432 - val_loss: 0.3522 - val_accuracy: 0.9303\n",
      "Epoch 143/10000\n",
      "28/31 [==========================>...] - ETA: 0s - loss: 0.6521 - accuracy: 0.7464\n",
      "Epoch 143: saving model to model/keypoint_classifier\\keypoint_classifier.hdf5\n",
      "31/31 [==============================] - 0s 7ms/step - loss: 0.6592 - accuracy: 0.7437 - val_loss: 0.3474 - val_accuracy: 0.9257\n",
      "Epoch 144/10000\n",
      "23/31 [=====================>........] - ETA: 0s - loss: 0.6740 - accuracy: 0.7510\n",
      "Epoch 144: saving model to model/keypoint_classifier\\keypoint_classifier.hdf5\n",
      "31/31 [==============================] - 0s 5ms/step - loss: 0.6660 - accuracy: 0.7518 - val_loss: 0.3525 - val_accuracy: 0.9219\n",
      "Epoch 145/10000\n",
      "24/31 [======================>.......] - ETA: 0s - loss: 0.6570 - accuracy: 0.7536\n",
      "Epoch 145: saving model to model/keypoint_classifier\\keypoint_classifier.hdf5\n",
      "31/31 [==============================] - 0s 5ms/step - loss: 0.6590 - accuracy: 0.7503 - val_loss: 0.3399 - val_accuracy: 0.9249\n",
      "Epoch 146/10000\n",
      "24/31 [======================>.......] - ETA: 0s - loss: 0.6701 - accuracy: 0.7412\n",
      "Epoch 146: saving model to model/keypoint_classifier\\keypoint_classifier.hdf5\n",
      "31/31 [==============================] - 0s 5ms/step - loss: 0.6645 - accuracy: 0.7460 - val_loss: 0.3385 - val_accuracy: 0.9280\n",
      "Epoch 147/10000\n",
      "23/31 [=====================>........] - ETA: 0s - loss: 0.6660 - accuracy: 0.7442\n",
      "Epoch 147: saving model to model/keypoint_classifier\\keypoint_classifier.hdf5\n",
      "31/31 [==============================] - 0s 4ms/step - loss: 0.6558 - accuracy: 0.7475 - val_loss: 0.3368 - val_accuracy: 0.9287\n",
      "Epoch 148/10000\n",
      "23/31 [=====================>........] - ETA: 0s - loss: 0.6575 - accuracy: 0.7422\n",
      "Epoch 148: saving model to model/keypoint_classifier\\keypoint_classifier.hdf5\n",
      "31/31 [==============================] - 0s 6ms/step - loss: 0.6656 - accuracy: 0.7391 - val_loss: 0.3371 - val_accuracy: 0.9272\n",
      "Epoch 149/10000\n",
      "26/31 [========================>.....] - ETA: 0s - loss: 0.6428 - accuracy: 0.7554\n",
      "Epoch 149: saving model to model/keypoint_classifier\\keypoint_classifier.hdf5\n",
      "31/31 [==============================] - 0s 4ms/step - loss: 0.6499 - accuracy: 0.7523 - val_loss: 0.3367 - val_accuracy: 0.9265\n",
      "Epoch 150/10000\n",
      "21/31 [===================>..........] - ETA: 0s - loss: 0.6523 - accuracy: 0.7500\n",
      "Epoch 150: saving model to model/keypoint_classifier\\keypoint_classifier.hdf5\n",
      "31/31 [==============================] - 0s 5ms/step - loss: 0.6581 - accuracy: 0.7515 - val_loss: 0.3316 - val_accuracy: 0.9227\n",
      "Epoch 151/10000\n",
      "22/31 [====================>.........] - ETA: 0s - loss: 0.6690 - accuracy: 0.7518\n",
      "Epoch 151: saving model to model/keypoint_classifier\\keypoint_classifier.hdf5\n",
      "31/31 [==============================] - 0s 4ms/step - loss: 0.6661 - accuracy: 0.7472 - val_loss: 0.3473 - val_accuracy: 0.9189\n",
      "Epoch 152/10000\n",
      "25/31 [=======================>......] - ETA: 0s - loss: 0.6387 - accuracy: 0.7566\n",
      "Epoch 152: saving model to model/keypoint_classifier\\keypoint_classifier.hdf5\n",
      "31/31 [==============================] - 0s 6ms/step - loss: 0.6363 - accuracy: 0.7599 - val_loss: 0.3292 - val_accuracy: 0.9257\n",
      "Epoch 153/10000\n",
      "30/31 [============================>.] - ETA: 0s - loss: 0.6521 - accuracy: 0.7513\n",
      "Epoch 153: saving model to model/keypoint_classifier\\keypoint_classifier.hdf5\n",
      "31/31 [==============================] - 0s 4ms/step - loss: 0.6517 - accuracy: 0.7520 - val_loss: 0.3342 - val_accuracy: 0.9219\n",
      "Epoch 154/10000\n",
      "30/31 [============================>.] - ETA: 0s - loss: 0.6685 - accuracy: 0.7378\n",
      "Epoch 154: saving model to model/keypoint_classifier\\keypoint_classifier.hdf5\n",
      "31/31 [==============================] - 0s 4ms/step - loss: 0.6690 - accuracy: 0.7374 - val_loss: 0.3387 - val_accuracy: 0.9227\n",
      "Epoch 155/10000\n",
      "27/31 [=========================>....] - ETA: 0s - loss: 0.6724 - accuracy: 0.7462\n",
      "Epoch 155: saving model to model/keypoint_classifier\\keypoint_classifier.hdf5\n",
      "31/31 [==============================] - 0s 4ms/step - loss: 0.6629 - accuracy: 0.7475 - val_loss: 0.3362 - val_accuracy: 0.9272\n",
      "Epoch 156/10000\n",
      "27/31 [=========================>....] - ETA: 0s - loss: 0.6466 - accuracy: 0.7561\n",
      "Epoch 156: saving model to model/keypoint_classifier\\keypoint_classifier.hdf5\n",
      "31/31 [==============================] - 0s 4ms/step - loss: 0.6511 - accuracy: 0.7530 - val_loss: 0.3394 - val_accuracy: 0.9265\n",
      "Epoch 157/10000\n",
      "28/31 [==========================>...] - ETA: 0s - loss: 0.6531 - accuracy: 0.7494\n",
      "Epoch 157: saving model to model/keypoint_classifier\\keypoint_classifier.hdf5\n",
      "31/31 [==============================] - 0s 4ms/step - loss: 0.6574 - accuracy: 0.7465 - val_loss: 0.3445 - val_accuracy: 0.9272\n",
      "Epoch 158/10000\n",
      " 1/31 [..............................] - ETA: 0s - loss: 0.5509 - accuracy: 0.7812\n",
      "Epoch 158: saving model to model/keypoint_classifier\\keypoint_classifier.hdf5\n",
      "31/31 [==============================] - 0s 4ms/step - loss: 0.6549 - accuracy: 0.7442 - val_loss: 0.3472 - val_accuracy: 0.9128\n",
      "Epoch 159/10000\n",
      "31/31 [==============================] - ETA: 0s - loss: 0.6554 - accuracy: 0.7470\n",
      "Epoch 159: saving model to model/keypoint_classifier\\keypoint_classifier.hdf5\n",
      "31/31 [==============================] - 0s 4ms/step - loss: 0.6554 - accuracy: 0.7470 - val_loss: 0.3381 - val_accuracy: 0.9174\n",
      "Epoch 160/10000\n",
      "30/31 [============================>.] - ETA: 0s - loss: 0.6539 - accuracy: 0.7477\n",
      "Epoch 160: saving model to model/keypoint_classifier\\keypoint_classifier.hdf5\n",
      "31/31 [==============================] - 0s 5ms/step - loss: 0.6514 - accuracy: 0.7490 - val_loss: 0.3424 - val_accuracy: 0.9204\n",
      "Epoch 161/10000\n",
      "29/31 [===========================>..] - ETA: 0s - loss: 0.6437 - accuracy: 0.7559\n",
      "Epoch 161: saving model to model/keypoint_classifier\\keypoint_classifier.hdf5\n",
      "31/31 [==============================] - 0s 4ms/step - loss: 0.6438 - accuracy: 0.7548 - val_loss: 0.3390 - val_accuracy: 0.9257\n",
      "Epoch 162/10000\n",
      " 1/31 [..............................] - ETA: 0s - loss: 0.6984 - accuracy: 0.7031\n",
      "Epoch 162: saving model to model/keypoint_classifier\\keypoint_classifier.hdf5\n",
      "31/31 [==============================] - 0s 4ms/step - loss: 0.6414 - accuracy: 0.7568 - val_loss: 0.3314 - val_accuracy: 0.9234\n",
      "Epoch 163/10000\n",
      "30/31 [============================>.] - ETA: 0s - loss: 0.6581 - accuracy: 0.7451\n",
      "Epoch 163: saving model to model/keypoint_classifier\\keypoint_classifier.hdf5\n",
      "31/31 [==============================] - 0s 4ms/step - loss: 0.6579 - accuracy: 0.7460 - val_loss: 0.3412 - val_accuracy: 0.9219\n",
      "Epoch 164/10000\n",
      "30/31 [============================>.] - ETA: 0s - loss: 0.6588 - accuracy: 0.7437\n",
      "Epoch 164: saving model to model/keypoint_classifier\\keypoint_classifier.hdf5\n",
      "31/31 [==============================] - 0s 4ms/step - loss: 0.6567 - accuracy: 0.7444 - val_loss: 0.3353 - val_accuracy: 0.9212\n",
      "Epoch 165/10000\n",
      "13/31 [===========>..................] - ETA: 0s - loss: 0.6601 - accuracy: 0.7434\n",
      "Epoch 165: saving model to model/keypoint_classifier\\keypoint_classifier.hdf5\n",
      "31/31 [==============================] - 0s 5ms/step - loss: 0.6445 - accuracy: 0.7503 - val_loss: 0.3303 - val_accuracy: 0.9204\n",
      "Epoch 166/10000\n",
      " 1/31 [..............................] - ETA: 0s - loss: 0.6505 - accuracy: 0.7734\n",
      "Epoch 166: saving model to model/keypoint_classifier\\keypoint_classifier.hdf5\n",
      "31/31 [==============================] - 0s 4ms/step - loss: 0.6660 - accuracy: 0.7465 - val_loss: 0.3329 - val_accuracy: 0.9181\n",
      "Epoch 167/10000\n",
      "24/31 [======================>.......] - ETA: 0s - loss: 0.6344 - accuracy: 0.7617\n",
      "Epoch 167: saving model to model/keypoint_classifier\\keypoint_classifier.hdf5\n",
      "31/31 [==============================] - 0s 4ms/step - loss: 0.6322 - accuracy: 0.7629 - val_loss: 0.3331 - val_accuracy: 0.9242\n",
      "Epoch 168/10000\n",
      "27/31 [=========================>....] - ETA: 0s - loss: 0.6241 - accuracy: 0.7523\n",
      "Epoch 168: saving model to model/keypoint_classifier\\keypoint_classifier.hdf5\n",
      "31/31 [==============================] - 0s 4ms/step - loss: 0.6337 - accuracy: 0.7495 - val_loss: 0.3315 - val_accuracy: 0.9257\n",
      "Epoch 169/10000\n",
      "30/31 [============================>.] - ETA: 0s - loss: 0.6505 - accuracy: 0.7620\n",
      "Epoch 169: saving model to model/keypoint_classifier\\keypoint_classifier.hdf5\n",
      "31/31 [==============================] - 0s 5ms/step - loss: 0.6491 - accuracy: 0.7609 - val_loss: 0.3299 - val_accuracy: 0.9265\n",
      "Epoch 170/10000\n",
      "26/31 [========================>.....] - ETA: 0s - loss: 0.6365 - accuracy: 0.7581\n",
      "Epoch 170: saving model to model/keypoint_classifier\\keypoint_classifier.hdf5\n",
      "31/31 [==============================] - 0s 4ms/step - loss: 0.6507 - accuracy: 0.7508 - val_loss: 0.3257 - val_accuracy: 0.9280\n",
      "Epoch 171/10000\n",
      "28/31 [==========================>...] - ETA: 0s - loss: 0.6346 - accuracy: 0.7609\n",
      "Epoch 171: saving model to model/keypoint_classifier\\keypoint_classifier.hdf5\n",
      "31/31 [==============================] - 0s 4ms/step - loss: 0.6386 - accuracy: 0.7596 - val_loss: 0.3264 - val_accuracy: 0.9303\n",
      "Epoch 172/10000\n",
      "28/31 [==========================>...] - ETA: 0s - loss: 0.6382 - accuracy: 0.7520\n",
      "Epoch 172: saving model to model/keypoint_classifier\\keypoint_classifier.hdf5\n",
      "31/31 [==============================] - 0s 4ms/step - loss: 0.6453 - accuracy: 0.7515 - val_loss: 0.3346 - val_accuracy: 0.9287\n",
      "Epoch 173/10000\n",
      "26/31 [========================>.....] - ETA: 0s - loss: 0.6360 - accuracy: 0.7602\n",
      "Epoch 173: saving model to model/keypoint_classifier\\keypoint_classifier.hdf5\n",
      "31/31 [==============================] - 0s 5ms/step - loss: 0.6400 - accuracy: 0.7588 - val_loss: 0.3359 - val_accuracy: 0.9249\n",
      "Epoch 174/10000\n",
      "28/31 [==========================>...] - ETA: 0s - loss: 0.6308 - accuracy: 0.7553\n",
      "Epoch 174: saving model to model/keypoint_classifier\\keypoint_classifier.hdf5\n",
      "31/31 [==============================] - 0s 4ms/step - loss: 0.6319 - accuracy: 0.7548 - val_loss: 0.3288 - val_accuracy: 0.9340\n",
      "Epoch 175/10000\n",
      " 1/31 [..............................] - ETA: 0s - loss: 0.6043 - accuracy: 0.7500\n",
      "Epoch 175: saving model to model/keypoint_classifier\\keypoint_classifier.hdf5\n",
      "31/31 [==============================] - 0s 4ms/step - loss: 0.6511 - accuracy: 0.7427 - val_loss: 0.3247 - val_accuracy: 0.9280\n",
      "Epoch 176/10000\n",
      "31/31 [==============================] - ETA: 0s - loss: 0.6418 - accuracy: 0.7442\n",
      "Epoch 176: saving model to model/keypoint_classifier\\keypoint_classifier.hdf5\n",
      "31/31 [==============================] - 0s 4ms/step - loss: 0.6418 - accuracy: 0.7442 - val_loss: 0.3301 - val_accuracy: 0.9196\n",
      "Epoch 177/10000\n",
      " 1/31 [..............................] - ETA: 0s - loss: 0.6263 - accuracy: 0.7422\n",
      "Epoch 177: saving model to model/keypoint_classifier\\keypoint_classifier.hdf5\n",
      "31/31 [==============================] - 0s 4ms/step - loss: 0.6361 - accuracy: 0.7546 - val_loss: 0.3304 - val_accuracy: 0.9219\n",
      "Epoch 178/10000\n",
      " 1/31 [..............................] - ETA: 0s - loss: 0.5477 - accuracy: 0.7969\n",
      "Epoch 178: saving model to model/keypoint_classifier\\keypoint_classifier.hdf5\n",
      "31/31 [==============================] - 0s 4ms/step - loss: 0.6238 - accuracy: 0.7546 - val_loss: 0.3271 - val_accuracy: 0.9242\n",
      "Epoch 179/10000\n",
      "30/31 [============================>.] - ETA: 0s - loss: 0.6554 - accuracy: 0.7422\n",
      "Epoch 179: saving model to model/keypoint_classifier\\keypoint_classifier.hdf5\n",
      "31/31 [==============================] - 0s 3ms/step - loss: 0.6575 - accuracy: 0.7412 - val_loss: 0.3378 - val_accuracy: 0.9212\n",
      "Epoch 180/10000\n",
      "29/31 [===========================>..] - ETA: 0s - loss: 0.6625 - accuracy: 0.7430\n",
      "Epoch 180: saving model to model/keypoint_classifier\\keypoint_classifier.hdf5\n",
      "31/31 [==============================] - 0s 4ms/step - loss: 0.6599 - accuracy: 0.7449 - val_loss: 0.3383 - val_accuracy: 0.9234\n",
      "Epoch 181/10000\n",
      "24/31 [======================>.......] - ETA: 0s - loss: 0.6399 - accuracy: 0.7614\n",
      "Epoch 181: saving model to model/keypoint_classifier\\keypoint_classifier.hdf5\n",
      "31/31 [==============================] - 0s 5ms/step - loss: 0.6421 - accuracy: 0.7583 - val_loss: 0.3376 - val_accuracy: 0.9204\n",
      "Epoch 182/10000\n",
      "27/31 [=========================>....] - ETA: 0s - loss: 0.6332 - accuracy: 0.7581\n",
      "Epoch 182: saving model to model/keypoint_classifier\\keypoint_classifier.hdf5\n",
      "31/31 [==============================] - 0s 4ms/step - loss: 0.6386 - accuracy: 0.7561 - val_loss: 0.3306 - val_accuracy: 0.9227\n",
      "Epoch 183/10000\n",
      " 1/31 [..............................] - ETA: 0s - loss: 0.5902 - accuracy: 0.7656\n",
      "Epoch 183: saving model to model/keypoint_classifier\\keypoint_classifier.hdf5\n",
      "31/31 [==============================] - 0s 4ms/step - loss: 0.6317 - accuracy: 0.7631 - val_loss: 0.3308 - val_accuracy: 0.9287\n",
      "Epoch 184/10000\n",
      " 1/31 [..............................] - ETA: 0s - loss: 0.5195 - accuracy: 0.7578\n",
      "Epoch 184: saving model to model/keypoint_classifier\\keypoint_classifier.hdf5\n",
      "31/31 [==============================] - 0s 3ms/step - loss: 0.6373 - accuracy: 0.7500 - val_loss: 0.3203 - val_accuracy: 0.9356\n",
      "Epoch 185/10000\n",
      "31/31 [==============================] - ETA: 0s - loss: 0.6476 - accuracy: 0.7538\n",
      "Epoch 185: saving model to model/keypoint_classifier\\keypoint_classifier.hdf5\n",
      "31/31 [==============================] - 0s 5ms/step - loss: 0.6476 - accuracy: 0.7538 - val_loss: 0.3286 - val_accuracy: 0.9325\n",
      "Epoch 186/10000\n",
      " 1/31 [..............................] - ETA: 0s - loss: 0.6804 - accuracy: 0.7500\n",
      "Epoch 186: saving model to model/keypoint_classifier\\keypoint_classifier.hdf5\n",
      "31/31 [==============================] - 0s 4ms/step - loss: 0.6320 - accuracy: 0.7576 - val_loss: 0.3304 - val_accuracy: 0.9287\n",
      "Epoch 187/10000\n",
      "27/31 [=========================>....] - ETA: 0s - loss: 0.6319 - accuracy: 0.7549\n",
      "Epoch 187: saving model to model/keypoint_classifier\\keypoint_classifier.hdf5\n",
      "31/31 [==============================] - 0s 4ms/step - loss: 0.6297 - accuracy: 0.7553 - val_loss: 0.3284 - val_accuracy: 0.9295\n",
      "Epoch 188/10000\n",
      "30/31 [============================>.] - ETA: 0s - loss: 0.6689 - accuracy: 0.7487\n",
      "Epoch 188: saving model to model/keypoint_classifier\\keypoint_classifier.hdf5\n",
      "31/31 [==============================] - 0s 4ms/step - loss: 0.6684 - accuracy: 0.7485 - val_loss: 0.3393 - val_accuracy: 0.9318\n",
      "Epoch 189/10000\n",
      "26/31 [========================>.....] - ETA: 0s - loss: 0.6172 - accuracy: 0.7620\n",
      "Epoch 189: saving model to model/keypoint_classifier\\keypoint_classifier.hdf5\n",
      "31/31 [==============================] - 0s 5ms/step - loss: 0.6238 - accuracy: 0.7594 - val_loss: 0.3303 - val_accuracy: 0.9325\n",
      "Epoch 190/10000\n",
      " 1/31 [..............................] - ETA: 0s - loss: 0.5091 - accuracy: 0.7969\n",
      "Epoch 190: saving model to model/keypoint_classifier\\keypoint_classifier.hdf5\n",
      "31/31 [==============================] - 0s 4ms/step - loss: 0.6472 - accuracy: 0.7520 - val_loss: 0.3345 - val_accuracy: 0.9280\n",
      "Epoch 191/10000\n",
      "30/31 [============================>.] - ETA: 0s - loss: 0.6393 - accuracy: 0.7484\n",
      "Epoch 191: saving model to model/keypoint_classifier\\keypoint_classifier.hdf5\n",
      "31/31 [==============================] - 0s 4ms/step - loss: 0.6427 - accuracy: 0.7480 - val_loss: 0.3280 - val_accuracy: 0.9325\n",
      "Epoch 192/10000\n",
      " 1/31 [..............................] - ETA: 0s - loss: 0.4649 - accuracy: 0.8438\n",
      "Epoch 192: saving model to model/keypoint_classifier\\keypoint_classifier.hdf5\n",
      "31/31 [==============================] - 0s 3ms/step - loss: 0.6253 - accuracy: 0.7606 - val_loss: 0.3288 - val_accuracy: 0.9295\n",
      "Epoch 193/10000\n",
      "30/31 [============================>.] - ETA: 0s - loss: 0.6359 - accuracy: 0.7544\n",
      "Epoch 193: saving model to model/keypoint_classifier\\keypoint_classifier.hdf5\n",
      "31/31 [==============================] - 0s 5ms/step - loss: 0.6378 - accuracy: 0.7543 - val_loss: 0.3353 - val_accuracy: 0.9280\n",
      "Epoch 194/10000\n",
      " 1/31 [..............................] - ETA: 0s - loss: 0.5921 - accuracy: 0.7891\n",
      "Epoch 194: saving model to model/keypoint_classifier\\keypoint_classifier.hdf5\n",
      "31/31 [==============================] - 0s 4ms/step - loss: 0.6073 - accuracy: 0.7669 - val_loss: 0.3218 - val_accuracy: 0.9227\n",
      "Epoch 195/10000\n",
      "27/31 [=========================>....] - ETA: 0s - loss: 0.6473 - accuracy: 0.7526\n",
      "Epoch 195: saving model to model/keypoint_classifier\\keypoint_classifier.hdf5\n",
      "31/31 [==============================] - 0s 4ms/step - loss: 0.6488 - accuracy: 0.7505 - val_loss: 0.3273 - val_accuracy: 0.9295\n",
      "Epoch 196/10000\n",
      "27/31 [=========================>....] - ETA: 0s - loss: 0.6227 - accuracy: 0.7506\n",
      "Epoch 196: saving model to model/keypoint_classifier\\keypoint_classifier.hdf5\n",
      "31/31 [==============================] - 0s 5ms/step - loss: 0.6178 - accuracy: 0.7528 - val_loss: 0.3325 - val_accuracy: 0.9272\n",
      "Epoch 197/10000\n",
      "31/31 [==============================] - ETA: 0s - loss: 0.6446 - accuracy: 0.7480\n",
      "Epoch 197: saving model to model/keypoint_classifier\\keypoint_classifier.hdf5\n",
      "31/31 [==============================] - 0s 4ms/step - loss: 0.6446 - accuracy: 0.7480 - val_loss: 0.3270 - val_accuracy: 0.9280\n",
      "Epoch 198/10000\n",
      "31/31 [==============================] - ETA: 0s - loss: 0.6298 - accuracy: 0.7588\n",
      "Epoch 198: saving model to model/keypoint_classifier\\keypoint_classifier.hdf5\n",
      "31/31 [==============================] - 0s 4ms/step - loss: 0.6298 - accuracy: 0.7588 - val_loss: 0.3242 - val_accuracy: 0.9295\n",
      "Epoch 199/10000\n",
      "28/31 [==========================>...] - ETA: 0s - loss: 0.6506 - accuracy: 0.7536\n",
      "Epoch 199: saving model to model/keypoint_classifier\\keypoint_classifier.hdf5\n",
      "31/31 [==============================] - 0s 4ms/step - loss: 0.6491 - accuracy: 0.7563 - val_loss: 0.3275 - val_accuracy: 0.9287\n",
      "Epoch 200/10000\n",
      "10/31 [========>.....................] - ETA: 0s - loss: 0.6283 - accuracy: 0.7484\n",
      "Epoch 200: saving model to model/keypoint_classifier\\keypoint_classifier.hdf5\n",
      "31/31 [==============================] - 0s 5ms/step - loss: 0.6287 - accuracy: 0.7578 - val_loss: 0.3275 - val_accuracy: 0.9303\n",
      "Epoch 201/10000\n",
      "31/31 [==============================] - ETA: 0s - loss: 0.6308 - accuracy: 0.7558\n",
      "Epoch 201: saving model to model/keypoint_classifier\\keypoint_classifier.hdf5\n",
      "31/31 [==============================] - 0s 4ms/step - loss: 0.6308 - accuracy: 0.7558 - val_loss: 0.3245 - val_accuracy: 0.9287\n",
      "Epoch 202/10000\n",
      "29/31 [===========================>..] - ETA: 0s - loss: 0.6338 - accuracy: 0.7516\n",
      "Epoch 202: saving model to model/keypoint_classifier\\keypoint_classifier.hdf5\n",
      "31/31 [==============================] - 0s 4ms/step - loss: 0.6366 - accuracy: 0.7487 - val_loss: 0.3305 - val_accuracy: 0.9325\n",
      "Epoch 203/10000\n",
      "27/31 [=========================>....] - ETA: 0s - loss: 0.6382 - accuracy: 0.7520\n",
      "Epoch 203: saving model to model/keypoint_classifier\\keypoint_classifier.hdf5\n",
      "31/31 [==============================] - 0s 4ms/step - loss: 0.6331 - accuracy: 0.7553 - val_loss: 0.3258 - val_accuracy: 0.9303\n",
      "Epoch 204/10000\n",
      "22/31 [====================>.........] - ETA: 0s - loss: 0.6363 - accuracy: 0.7543\n",
      "Epoch 204: saving model to model/keypoint_classifier\\keypoint_classifier.hdf5\n",
      "31/31 [==============================] - 0s 5ms/step - loss: 0.6427 - accuracy: 0.7513 - val_loss: 0.3330 - val_accuracy: 0.9310\n",
      "Epoch 204: early stopping\n"
     ]
    },
    {
     "data": {
      "text/plain": [
       "<keras.callbacks.History at 0x282bea3a940>"
      ]
     },
     "execution_count": 11,
     "metadata": {},
     "output_type": "execute_result"
    }
   ],
   "source": [
    "model.fit(\n",
    "    X_train,\n",
    "    y_train,\n",
    "    epochs=10000,\n",
    "    batch_size=128,\n",
    "    validation_data=(X_test, y_test),\n",
    "    callbacks=[cp_callback, es_callback]\n",
    ")"
   ]
  },
  {
   "cell_type": "code",
   "execution_count": 12,
   "metadata": {
    "colab": {
     "base_uri": "https://localhost:8080/"
    },
    "id": "pxvb2Y299hE3",
    "outputId": "59eb3185-2e37-4b9e-bc9d-ab1b8ac29b7f"
   },
   "outputs": [
    {
     "name": "stdout",
     "output_type": "stream",
     "text": [
      "11/11 [==============================] - 0s 4ms/step - loss: 0.3330 - accuracy: 0.9310\n"
     ]
    }
   ],
   "source": [
    "# Model evaluation\n",
    "val_loss, val_acc = model.evaluate(X_test, y_test, batch_size=128)"
   ]
  },
  {
   "cell_type": "code",
   "execution_count": 13,
   "metadata": {
    "id": "RBkmDeUW9hE4"
   },
   "outputs": [],
   "source": [
    "# Loading the saved model\n",
    "model = tf.keras.models.load_model(model_save_path)"
   ]
  },
  {
   "cell_type": "code",
   "execution_count": 14,
   "metadata": {
    "colab": {
     "base_uri": "https://localhost:8080/"
    },
    "id": "tFz9Tb0I9hE4",
    "outputId": "1c3b3528-54ae-4ee2-ab04-77429211cbef"
   },
   "outputs": [
    {
     "name": "stdout",
     "output_type": "stream",
     "text": [
      "1/1 [==============================] - 0s 123ms/step\n",
      "[9.4494772e-01 5.5013269e-02 1.6271077e-05 2.2787208e-05 3.7019660e-08]\n",
      "0\n"
     ]
    }
   ],
   "source": [
    "# Inference test\n",
    "predict_result = model.predict(np.array([X_test[0]]))\n",
    "print(np.squeeze(predict_result))\n",
    "print(np.argmax(np.squeeze(predict_result)))"
   ]
  },
  {
   "cell_type": "markdown",
   "metadata": {
    "id": "S3U4yNWx9hE4"
   },
   "source": [
    "# Confusion matrix"
   ]
  },
  {
   "cell_type": "code",
   "execution_count": 15,
   "metadata": {
    "colab": {
     "base_uri": "https://localhost:8080/",
     "height": 582
    },
    "id": "AP1V6SCk9hE5",
    "outputId": "08e41a80-7a4a-4619-8125-ecc371368d19",
    "scrolled": true
   },
   "outputs": [
    {
     "name": "stdout",
     "output_type": "stream",
     "text": [
      "42/42 [==============================] - 0s 2ms/step\n"
     ]
    },
    {
     "data": {
      "image/png": "[encoded data removed]",
      "text/plain": [
       "<Figure size 700x600 with 2 Axes>"
      ]
     },
     "metadata": {},
     "output_type": "display_data"
    },
    {
     "name": "stdout",
     "output_type": "stream",
     "text": [
      "Classification Report\n",
      "              precision    recall  f1-score   support\n",
      "\n",
      "           0       0.98      1.00      0.99       406\n",
      "           1       0.98      0.95      0.97       365\n",
      "           2       0.95      0.98      0.96       344\n",
      "           3       0.70      0.59      0.64        96\n",
      "           4       0.70      0.77      0.73       108\n",
      "\n",
      "    accuracy                           0.93      1319\n",
      "   macro avg       0.86      0.86      0.86      1319\n",
      "weighted avg       0.93      0.93      0.93      1319\n",
      "\n"
     ]
    }
   ],
   "source": [
    "import pandas as pd\n",
    "import seaborn as sns\n",
    "import matplotlib.pyplot as plt\n",
    "from sklearn.metrics import confusion_matrix, classification_report\n",
    "\n",
    "def print_confusion_matrix(y_true, y_pred, report=True):\n",
    "    labels = sorted(list(set(y_true)))\n",
    "    cmx_data = confusion_matrix(y_true, y_pred, labels=labels)\n",
    "    \n",
    "    df_cmx = pd.DataFrame(cmx_data, index=labels, columns=labels)\n",
    " \n",
    "    fig, ax = plt.subplots(figsize=(7, 6))\n",
    "    sns.heatmap(df_cmx, annot=True, fmt='g' ,square=False)\n",
    "    ax.set_ylim(len(set(y_true)), 0)\n",
    "    plt.show()\n",
    "    \n",
    "    if report:\n",
    "        print('Classification Report')\n",
    "        print(classification_report(y_test, y_pred))\n",
    "\n",
    "Y_pred = model.predict(X_test)\n",
    "y_pred = np.argmax(Y_pred, axis=1)\n",
    "\n",
    "print_confusion_matrix(y_test, y_pred)"
   ]
  },
  {
   "cell_type": "markdown",
   "metadata": {
    "id": "FNP6aqzc9hE5"
   },
   "source": [
    "# Convert to model for Tensorflow-Lite"
   ]
  },
  {
   "cell_type": "code",
   "execution_count": 16,
   "metadata": {
    "id": "ODjnYyld9hE6"
   },
   "outputs": [],
   "source": [
    "# Save as a model dedicated to inference\n",
    "model.save(model_save_path, include_optimizer=False)"
   ]
  },
  {
   "cell_type": "code",
   "execution_count": 17,
   "metadata": {
    "colab": {
     "base_uri": "https://localhost:8080/"
    },
    "id": "zRfuK8Y59hE6",
    "outputId": "a4ca585c-b5d5-4244-8291-8674063209bb"
   },
   "outputs": [
    {
     "name": "stdout",
     "output_type": "stream",
     "text": [
      "INFO:tensorflow:Assets written to: C:\\Users\\USER\\AppData\\Local\\Temp\\tmpn_fnlx40\\assets\n"
     ]
    },
    {
     "data": {
      "text/plain": [
       "6588"
      ]
     },
     "execution_count": 17,
     "metadata": {},
     "output_type": "execute_result"
    }
   ],
   "source": [
    "# Transform model (quantization)\n",
    "\n",
    "converter = tf.lite.TFLiteConverter.from_keras_model(model)\n",
    "converter.optimizations = [tf.lite.Optimize.DEFAULT]\n",
    "tflite_quantized_model = converter.convert()\n",
    "\n",
    "open(tflite_save_path, 'wb').write(tflite_quantized_model)"
   ]
  },
  {
   "cell_type": "markdown",
   "metadata": {
    "id": "CHBPBXdx9hE6"
   },
   "source": [
    "# Inference test"
   ]
  },
  {
   "cell_type": "code",
   "execution_count": 18,
   "metadata": {
    "id": "mGAzLocO9hE7"
   },
   "outputs": [],
   "source": [
    "interpreter = tf.lite.Interpreter(model_path=tflite_save_path)\n",
    "interpreter.allocate_tensors()"
   ]
  },
  {
   "cell_type": "code",
   "execution_count": 19,
   "metadata": {
    "id": "oQuDK8YS9hE7"
   },
   "outputs": [],
   "source": [
    "# Get I / O tensor\n",
    "input_details = interpreter.get_input_details()\n",
    "output_details = interpreter.get_output_details()"
   ]
  },
  {
   "cell_type": "code",
   "execution_count": 20,
   "metadata": {
    "id": "2_ixAf_l9hE7"
   },
   "outputs": [],
   "source": [
    "interpreter.set_tensor(input_details[0]['index'], np.array([X_test[0]]))"
   ]
  },
  {
   "cell_type": "code",
   "execution_count": 21,
   "metadata": {
    "colab": {
     "base_uri": "https://localhost:8080/"
    },
    "id": "s4FoAnuc9hE7",
    "outputId": "91f18257-8d8b-4ef3-c558-e9b5f94fabbf",
    "scrolled": true
   },
   "outputs": [
    {
     "name": "stdout",
     "output_type": "stream",
     "text": [
      "CPU times: total: 0 ns\n",
      "Wall time: 0 ns\n"
     ]
    }
   ],
   "source": [
    "%%time\n",
    "# Inference implementation\n",
    "interpreter.invoke()\n",
    "tflite_results = interpreter.get_tensor(output_details[0]['index'])"
   ]
  },
  {
   "cell_type": "code",
   "execution_count": 22,
   "metadata": {
    "colab": {
     "base_uri": "https://localhost:8080/"
    },
    "id": "vONjp19J9hE8",
    "outputId": "77205e24-fd00-42c4-f7b6-e06e527c2cba"
   },
   "outputs": [
    {
     "name": "stdout",
     "output_type": "stream",
     "text": [
      "[9.4494772e-01 5.5013239e-02 1.6271044e-05 2.2787182e-05 3.7019593e-08]\n",
      "0\n"
     ]
    }
   ],
   "source": [
    "print(np.squeeze(tflite_results))\n",
    "print(np.argmax(np.squeeze(tflite_results)))"
   ]
  }
 ],
 "metadata": {
  "accelerator": "GPU",
  "colab": {
   "collapsed_sections": [],
   "name": "keypoint_classification_EN.ipynb",
   "provenance": [],
   "toc_visible": true
  },
  "kernelspec": {
   "display_name": "Python 3 (ipykernel)",
   "language": "python",
   "name": "python3"
  },
  "language_info": {
   "codemirror_mode": {
    "name": "ipython",
    "version": 3
   },
   "file_extension": ".py",
   "mimetype": "text/x-python",
   "name": "python",
   "nbconvert_exporter": "python",
   "pygments_lexer": "ipython3",
   "version": "3.9.13"
  }
 },
 "nbformat": 4,
 "nbformat_minor": 4
}

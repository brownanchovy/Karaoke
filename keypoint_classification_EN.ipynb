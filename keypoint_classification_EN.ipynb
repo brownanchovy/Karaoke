{
 "cells": [
  {
   "cell_type": "code",
   "execution_count": 1,
   "metadata": {
    "id": "igMyGnjE9hEp"
   },
   "outputs": [],
   "source": [
    "import csv\n",
    "\n",
    "import numpy as np\n",
    "import tensorflow as tf\n",
    "from sklearn.model_selection import train_test_split\n",
    "\n",
    "RANDOM_SEED = 42"
   ]
  },
  {
   "cell_type": "markdown",
   "metadata": {
    "id": "t2HDvhIu9hEr"
   },
   "source": [
    "# Specify each path"
   ]
  },
  {
   "cell_type": "code",
   "execution_count": 2,
   "metadata": {
    "id": "9NvZP2Zn9hEy"
   },
   "outputs": [],
   "source": [
    "dataset = 'model/keypoint_classifier/keypoint.csv'\n",
    "model_save_path = 'model/keypoint_classifier/keypoint_classifier.hdf5'\n",
    "tflite_save_path = 'model/keypoint_classifier/keypoint_classifier.tflite'"
   ]
  },
  {
   "cell_type": "markdown",
   "metadata": {
    "id": "s5oMH7x19hEz"
   },
   "source": [
    "# Set number of classes"
   ]
  },
  {
   "cell_type": "code",
   "execution_count": 3,
   "metadata": {
    "id": "du4kodXL9hEz"
   },
   "outputs": [],
   "source": [
    "NUM_CLASSES = 5"
   ]
  },
  {
   "cell_type": "markdown",
   "metadata": {
    "id": "XjnL0uso9hEz"
   },
   "source": [
    "# Dataset reading"
   ]
  },
  {
   "cell_type": "code",
   "execution_count": 4,
   "metadata": {
    "id": "QT5ZqtEz9hE0"
   },
   "outputs": [],
   "source": [
    "X_dataset = np.loadtxt(dataset, delimiter=',', dtype='float32', usecols=list(range(1, (21 * 2) + 1)))"
   ]
  },
  {
   "cell_type": "code",
   "execution_count": 5,
   "metadata": {
    "id": "QmoKFsp49hE0"
   },
   "outputs": [],
   "source": [
    "y_dataset = np.loadtxt(dataset, delimiter=',', dtype='int32', usecols=(0))"
   ]
  },
  {
   "cell_type": "code",
   "execution_count": 6,
   "metadata": {
    "id": "xQU7JTZ_9hE0"
   },
   "outputs": [],
   "source": [
    "X_train, X_test, y_train, y_test = train_test_split(X_dataset, y_dataset, train_size=0.75, random_state=RANDOM_SEED)"
   ]
  },
  {
   "cell_type": "markdown",
   "metadata": {
    "id": "mxK_lETT9hE0"
   },
   "source": [
    "# Model building"
   ]
  },
  {
   "cell_type": "code",
   "execution_count": 7,
   "metadata": {
    "id": "vHBmUf1t9hE1"
   },
   "outputs": [],
   "source": [
    "model = tf.keras.models.Sequential([\n",
    "    tf.keras.layers.Input((21 * 2, )),\n",
    "    tf.keras.layers.Dropout(0.2),\n",
    "    tf.keras.layers.Dense(20, activation='relu'),\n",
    "    tf.keras.layers.Dropout(0.4),\n",
    "    tf.keras.layers.Dense(10, activation='relu'),\n",
    "    tf.keras.layers.Dense(NUM_CLASSES, activation='softmax')\n",
    "])"
   ]
  },
  {
   "cell_type": "code",
   "execution_count": 8,
   "metadata": {
    "colab": {
     "base_uri": "https://localhost:8080/"
    },
    "id": "ypqky9tc9hE1",
    "outputId": "5db082bb-30e3-4110-bf63-a1ee777ecd46"
   },
   "outputs": [
    {
     "name": "stdout",
     "output_type": "stream",
     "text": [
      "Model: \"sequential\"\n",
      "_________________________________________________________________\n",
      " Layer (type)                Output Shape              Param #   \n",
      "=================================================================\n",
      " dropout (Dropout)           (None, 42)                0         \n",
      "                                                                 \n",
      " dense (Dense)               (None, 20)                860       \n",
      "                                                                 \n",
      " dropout_1 (Dropout)         (None, 20)                0         \n",
      "                                                                 \n",
      " dense_1 (Dense)             (None, 10)                210       \n",
      "                                                                 \n",
      " dense_2 (Dense)             (None, 5)                 55        \n",
      "                                                                 \n",
      "=================================================================\n",
      "Total params: 1,125\n",
      "Trainable params: 1,125\n",
      "Non-trainable params: 0\n",
      "_________________________________________________________________\n"
     ]
    }
   ],
   "source": [
    "model.summary()  # tf.keras.utils.plot_model(model, show_shapes=True)"
   ]
  },
  {
   "cell_type": "code",
   "execution_count": 9,
   "metadata": {
    "id": "MbMjOflQ9hE1"
   },
   "outputs": [],
   "source": [
    "# Model checkpoint callback\n",
    "cp_callback = tf.keras.callbacks.ModelCheckpoint(\n",
    "    model_save_path, verbose=1, save_weights_only=False)\n",
    "# Callback for early stopping\n",
    "es_callback = tf.keras.callbacks.EarlyStopping(patience=20, verbose=1)"
   ]
  },
  {
   "cell_type": "code",
   "execution_count": 10,
   "metadata": {
    "id": "c3Dac0M_9hE2"
   },
   "outputs": [],
   "source": [
    "# Model compilation\n",
    "model.compile(\n",
    "    optimizer='adam',\n",
    "    loss='sparse_categorical_crossentropy',\n",
    "    metrics=['accuracy']\n",
    ")"
   ]
  },
  {
   "cell_type": "markdown",
   "metadata": {
    "id": "7XI0j1Iu9hE2"
   },
   "source": [
    "# Model training"
   ]
  },
  {
   "cell_type": "code",
   "execution_count": 11,
   "metadata": {
    "colab": {
     "base_uri": "https://localhost:8080/"
    },
    "id": "WirBl-JE9hE3",
    "outputId": "71b30ca2-8294-4d9d-8aa2-800d90d399de",
    "scrolled": true
   },
   "outputs": [
    {
     "name": "stdout",
     "output_type": "stream",
     "text": [
      "Epoch 1/1000\n",
      " 1/31 [..............................] - ETA: 7s - loss: 1.7050 - accuracy: 0.1953\n",
      "Epoch 1: saving model to model/keypoint_classifier\\keypoint_classifier.hdf5\n",
      "31/31 [==============================] - 0s 7ms/step - loss: 1.6183 - accuracy: 0.2609 - val_loss: 1.4864 - val_accuracy: 0.2729\n",
      "Epoch 2/1000\n",
      " 1/31 [..............................] - ETA: 0s - loss: 1.5125 - accuracy: 0.3281\n",
      "Epoch 2: saving model to model/keypoint_classifier\\keypoint_classifier.hdf5\n",
      "31/31 [==============================] - 0s 3ms/step - loss: 1.4987 - accuracy: 0.3162 - val_loss: 1.4186 - val_accuracy: 0.3904\n",
      "Epoch 3/1000\n",
      " 1/31 [..............................] - ETA: 0s - loss: 1.4326 - accuracy: 0.4219\n",
      "Epoch 3: saving model to model/keypoint_classifier\\keypoint_classifier.hdf5\n",
      "31/31 [==============================] - 0s 3ms/step - loss: 1.4469 - accuracy: 0.3648 - val_loss: 1.3618 - val_accuracy: 0.5186\n",
      "Epoch 4/1000\n",
      " 1/31 [..............................] - ETA: 0s - loss: 1.4723 - accuracy: 0.3594\n",
      "Epoch 4: saving model to model/keypoint_classifier\\keypoint_classifier.hdf5\n",
      "31/31 [==============================] - 0s 3ms/step - loss: 1.4032 - accuracy: 0.3953 - val_loss: 1.3121 - val_accuracy: 0.5959\n",
      "Epoch 5/1000\n",
      " 1/31 [..............................] - ETA: 0s - loss: 1.4015 - accuracy: 0.3672\n",
      "Epoch 5: saving model to model/keypoint_classifier\\keypoint_classifier.hdf5\n",
      "31/31 [==============================] - 0s 3ms/step - loss: 1.3602 - accuracy: 0.4264 - val_loss: 1.2591 - val_accuracy: 0.6270\n",
      "Epoch 6/1000\n",
      " 1/31 [..............................] - ETA: 0s - loss: 1.3693 - accuracy: 0.4453\n",
      "Epoch 6: saving model to model/keypoint_classifier\\keypoint_classifier.hdf5\n",
      "31/31 [==============================] - 0s 3ms/step - loss: 1.3087 - accuracy: 0.4568 - val_loss: 1.1988 - val_accuracy: 0.6475\n",
      "Epoch 7/1000\n",
      " 1/31 [..............................] - ETA: 0s - loss: 1.3368 - accuracy: 0.4219\n",
      "Epoch 7: saving model to model/keypoint_classifier\\keypoint_classifier.hdf5\n",
      "31/31 [==============================] - 0s 3ms/step - loss: 1.2771 - accuracy: 0.4750 - val_loss: 1.1388 - val_accuracy: 0.6793\n",
      "Epoch 8/1000\n",
      " 1/31 [..............................] - ETA: 0s - loss: 1.2624 - accuracy: 0.4766\n",
      "Epoch 8: saving model to model/keypoint_classifier\\keypoint_classifier.hdf5\n",
      "31/31 [==============================] - 0s 3ms/step - loss: 1.2346 - accuracy: 0.5003 - val_loss: 1.0748 - val_accuracy: 0.6914\n",
      "Epoch 9/1000\n",
      " 1/31 [..............................] - ETA: 0s - loss: 1.2228 - accuracy: 0.4922\n",
      "Epoch 9: saving model to model/keypoint_classifier\\keypoint_classifier.hdf5\n",
      "31/31 [==============================] - 0s 3ms/step - loss: 1.1914 - accuracy: 0.5182 - val_loss: 1.0079 - val_accuracy: 0.7036\n",
      "Epoch 10/1000\n",
      " 1/31 [..............................] - ETA: 0s - loss: 1.1682 - accuracy: 0.5391\n",
      "Epoch 10: saving model to model/keypoint_classifier\\keypoint_classifier.hdf5\n",
      "31/31 [==============================] - 0s 3ms/step - loss: 1.1658 - accuracy: 0.5230 - val_loss: 0.9452 - val_accuracy: 0.7316\n",
      "Epoch 11/1000\n",
      " 1/31 [..............................] - ETA: 0s - loss: 1.0282 - accuracy: 0.5938\n",
      "Epoch 11: saving model to model/keypoint_classifier\\keypoint_classifier.hdf5\n",
      "31/31 [==============================] - 0s 3ms/step - loss: 1.1168 - accuracy: 0.5531 - val_loss: 0.8891 - val_accuracy: 0.7331\n",
      "Epoch 12/1000\n",
      " 1/31 [..............................] - ETA: 0s - loss: 1.0164 - accuracy: 0.6328\n",
      "Epoch 12: saving model to model/keypoint_classifier\\keypoint_classifier.hdf5\n",
      "31/31 [==============================] - 0s 3ms/step - loss: 1.0880 - accuracy: 0.5645 - val_loss: 0.8407 - val_accuracy: 0.7369\n",
      "Epoch 13/1000\n",
      " 1/31 [..............................] - ETA: 0s - loss: 1.0601 - accuracy: 0.6016\n",
      "Epoch 13: saving model to model/keypoint_classifier\\keypoint_classifier.hdf5\n",
      "31/31 [==============================] - 0s 3ms/step - loss: 1.0715 - accuracy: 0.5710 - val_loss: 0.8055 - val_accuracy: 0.7513\n",
      "Epoch 14/1000\n",
      " 1/31 [..............................] - ETA: 0s - loss: 1.0997 - accuracy: 0.5469\n",
      "Epoch 14: saving model to model/keypoint_classifier\\keypoint_classifier.hdf5\n",
      "31/31 [==============================] - 0s 3ms/step - loss: 1.0510 - accuracy: 0.5690 - val_loss: 0.7835 - val_accuracy: 0.7551\n",
      "Epoch 15/1000\n",
      " 1/31 [..............................] - ETA: 0s - loss: 0.9249 - accuracy: 0.6328\n",
      "Epoch 15: saving model to model/keypoint_classifier\\keypoint_classifier.hdf5\n",
      "31/31 [==============================] - 0s 3ms/step - loss: 1.0182 - accuracy: 0.5925 - val_loss: 0.7490 - val_accuracy: 0.7619\n",
      "Epoch 16/1000\n",
      " 1/31 [..............................] - ETA: 0s - loss: 1.0157 - accuracy: 0.5938\n",
      "Epoch 16: saving model to model/keypoint_classifier\\keypoint_classifier.hdf5\n",
      "31/31 [==============================] - 0s 3ms/step - loss: 0.9995 - accuracy: 0.6079 - val_loss: 0.7194 - val_accuracy: 0.7726\n",
      "Epoch 17/1000\n",
      " 1/31 [..............................] - ETA: 0s - loss: 0.9575 - accuracy: 0.6484\n",
      "Epoch 17: saving model to model/keypoint_classifier\\keypoint_classifier.hdf5\n",
      "31/31 [==============================] - 0s 3ms/step - loss: 0.9819 - accuracy: 0.6084 - val_loss: 0.6994 - val_accuracy: 0.8036\n",
      "Epoch 18/1000\n",
      " 1/31 [..............................] - ETA: 0s - loss: 0.8975 - accuracy: 0.6484\n",
      "Epoch 18: saving model to model/keypoint_classifier\\keypoint_classifier.hdf5\n",
      "31/31 [==============================] - 0s 3ms/step - loss: 0.9608 - accuracy: 0.6231 - val_loss: 0.6752 - val_accuracy: 0.8059\n",
      "Epoch 19/1000\n",
      " 1/31 [..............................] - ETA: 0s - loss: 0.9594 - accuracy: 0.5938\n",
      "Epoch 19: saving model to model/keypoint_classifier\\keypoint_classifier.hdf5\n",
      "31/31 [==============================] - 0s 3ms/step - loss: 0.9480 - accuracy: 0.6236 - val_loss: 0.6546 - val_accuracy: 0.8203\n",
      "Epoch 20/1000\n",
      " 1/31 [..............................] - ETA: 0s - loss: 0.9656 - accuracy: 0.6328\n",
      "Epoch 20: saving model to model/keypoint_classifier\\keypoint_classifier.hdf5\n",
      "31/31 [==============================] - 0s 3ms/step - loss: 0.9477 - accuracy: 0.6229 - val_loss: 0.6361 - val_accuracy: 0.8302\n",
      "Epoch 21/1000\n",
      " 1/31 [..............................] - ETA: 0s - loss: 0.8969 - accuracy: 0.6406\n",
      "Epoch 21: saving model to model/keypoint_classifier\\keypoint_classifier.hdf5\n",
      "31/31 [==============================] - 0s 3ms/step - loss: 0.9338 - accuracy: 0.6388 - val_loss: 0.6210 - val_accuracy: 0.8476\n",
      "Epoch 22/1000\n",
      " 1/31 [..............................] - ETA: 0s - loss: 1.0228 - accuracy: 0.6094\n",
      "Epoch 22: saving model to model/keypoint_classifier\\keypoint_classifier.hdf5\n",
      "31/31 [==============================] - 0s 3ms/step - loss: 0.9129 - accuracy: 0.6418 - val_loss: 0.6003 - val_accuracy: 0.8393\n",
      "Epoch 23/1000\n",
      " 1/31 [..............................] - ETA: 0s - loss: 0.9177 - accuracy: 0.6719\n",
      "Epoch 23: saving model to model/keypoint_classifier\\keypoint_classifier.hdf5\n",
      "31/31 [==============================] - 0s 3ms/step - loss: 0.9191 - accuracy: 0.6416 - val_loss: 0.5890 - val_accuracy: 0.8575\n",
      "Epoch 24/1000\n",
      " 1/31 [..............................] - ETA: 0s - loss: 0.7788 - accuracy: 0.6875\n",
      "Epoch 24: saving model to model/keypoint_classifier\\keypoint_classifier.hdf5\n",
      "31/31 [==============================] - 0s 3ms/step - loss: 0.8829 - accuracy: 0.6496 - val_loss: 0.5789 - val_accuracy: 0.8506\n",
      "Epoch 25/1000\n",
      " 1/31 [..............................] - ETA: 0s - loss: 1.0913 - accuracy: 0.5234\n",
      "Epoch 25: saving model to model/keypoint_classifier\\keypoint_classifier.hdf5\n",
      "31/31 [==============================] - 0s 3ms/step - loss: 0.8936 - accuracy: 0.6471 - val_loss: 0.5638 - val_accuracy: 0.8582\n",
      "Epoch 26/1000\n",
      " 1/31 [..............................] - ETA: 0s - loss: 0.8520 - accuracy: 0.6953\n",
      "Epoch 26: saving model to model/keypoint_classifier\\keypoint_classifier.hdf5\n",
      "31/31 [==============================] - 0s 3ms/step - loss: 0.8737 - accuracy: 0.6633 - val_loss: 0.5538 - val_accuracy: 0.8688\n",
      "Epoch 27/1000\n",
      " 1/31 [..............................] - ETA: 0s - loss: 0.9568 - accuracy: 0.6172\n",
      "Epoch 27: saving model to model/keypoint_classifier\\keypoint_classifier.hdf5\n",
      "31/31 [==============================] - 0s 3ms/step - loss: 0.8666 - accuracy: 0.6676 - val_loss: 0.5450 - val_accuracy: 0.8666\n",
      "Epoch 28/1000\n",
      " 1/31 [..............................] - ETA: 0s - loss: 0.8964 - accuracy: 0.6094\n",
      "Epoch 28: saving model to model/keypoint_classifier\\keypoint_classifier.hdf5\n",
      "31/31 [==============================] - 0s 4ms/step - loss: 0.8659 - accuracy: 0.6653 - val_loss: 0.5305 - val_accuracy: 0.8635\n",
      "Epoch 29/1000\n",
      " 1/31 [..............................] - ETA: 0s - loss: 0.8233 - accuracy: 0.6406\n",
      "Epoch 29: saving model to model/keypoint_classifier\\keypoint_classifier.hdf5\n",
      "31/31 [==============================] - 0s 3ms/step - loss: 0.8339 - accuracy: 0.6792 - val_loss: 0.5187 - val_accuracy: 0.8613\n",
      "Epoch 30/1000\n",
      " 1/31 [..............................] - ETA: 0s - loss: 0.8813 - accuracy: 0.6719\n",
      "Epoch 30: saving model to model/keypoint_classifier\\keypoint_classifier.hdf5\n",
      "31/31 [==============================] - 0s 3ms/step - loss: 0.8446 - accuracy: 0.6757 - val_loss: 0.5079 - val_accuracy: 0.8688\n",
      "Epoch 31/1000\n",
      " 1/31 [..............................] - ETA: 0s - loss: 0.9640 - accuracy: 0.5938\n",
      "Epoch 31: saving model to model/keypoint_classifier\\keypoint_classifier.hdf5\n",
      "31/31 [==============================] - 0s 3ms/step - loss: 0.8451 - accuracy: 0.6762 - val_loss: 0.5034 - val_accuracy: 0.8772\n",
      "Epoch 32/1000\n",
      " 1/31 [..............................] - ETA: 0s - loss: 0.8045 - accuracy: 0.7109\n",
      "Epoch 32: saving model to model/keypoint_classifier\\keypoint_classifier.hdf5\n",
      "31/31 [==============================] - 0s 3ms/step - loss: 0.8251 - accuracy: 0.6721 - val_loss: 0.4973 - val_accuracy: 0.8764\n",
      "Epoch 33/1000\n",
      " 1/31 [..............................] - ETA: 0s - loss: 0.8182 - accuracy: 0.6719\n",
      "Epoch 33: saving model to model/keypoint_classifier\\keypoint_classifier.hdf5\n",
      "31/31 [==============================] - 0s 3ms/step - loss: 0.8044 - accuracy: 0.6876 - val_loss: 0.4826 - val_accuracy: 0.8802\n",
      "Epoch 34/1000\n",
      " 1/31 [..............................] - ETA: 0s - loss: 0.8328 - accuracy: 0.6797\n",
      "Epoch 34: saving model to model/keypoint_classifier\\keypoint_classifier.hdf5\n",
      "31/31 [==============================] - 0s 3ms/step - loss: 0.8274 - accuracy: 0.6752 - val_loss: 0.4823 - val_accuracy: 0.8832\n",
      "Epoch 35/1000\n",
      " 1/31 [..............................] - ETA: 0s - loss: 0.8935 - accuracy: 0.6641\n",
      "Epoch 35: saving model to model/keypoint_classifier\\keypoint_classifier.hdf5\n",
      "31/31 [==============================] - 0s 3ms/step - loss: 0.8147 - accuracy: 0.6810 - val_loss: 0.4755 - val_accuracy: 0.8863\n",
      "Epoch 36/1000\n",
      " 1/31 [..............................] - ETA: 0s - loss: 0.8049 - accuracy: 0.7109\n",
      "Epoch 36: saving model to model/keypoint_classifier\\keypoint_classifier.hdf5\n",
      "31/31 [==============================] - 0s 3ms/step - loss: 0.7950 - accuracy: 0.6921 - val_loss: 0.4699 - val_accuracy: 0.8886\n",
      "Epoch 37/1000\n",
      " 1/31 [..............................] - ETA: 0s - loss: 0.9063 - accuracy: 0.6172\n",
      "Epoch 37: saving model to model/keypoint_classifier\\keypoint_classifier.hdf5\n",
      "31/31 [==============================] - 0s 3ms/step - loss: 0.7860 - accuracy: 0.6939 - val_loss: 0.4618 - val_accuracy: 0.8855\n",
      "Epoch 38/1000\n",
      " 1/31 [..............................] - ETA: 0s - loss: 0.7016 - accuracy: 0.7266\n",
      "Epoch 38: saving model to model/keypoint_classifier\\keypoint_classifier.hdf5\n",
      "31/31 [==============================] - 0s 3ms/step - loss: 0.8080 - accuracy: 0.6929 - val_loss: 0.4636 - val_accuracy: 0.8893\n",
      "Epoch 39/1000\n",
      " 1/31 [..............................] - ETA: 0s - loss: 0.7338 - accuracy: 0.7188\n",
      "Epoch 39: saving model to model/keypoint_classifier\\keypoint_classifier.hdf5\n",
      "31/31 [==============================] - 0s 3ms/step - loss: 0.7973 - accuracy: 0.6984 - val_loss: 0.4549 - val_accuracy: 0.8931\n",
      "Epoch 40/1000\n",
      " 1/31 [..............................] - ETA: 0s - loss: 0.6609 - accuracy: 0.7422\n",
      "Epoch 40: saving model to model/keypoint_classifier\\keypoint_classifier.hdf5\n",
      "31/31 [==============================] - 0s 3ms/step - loss: 0.7760 - accuracy: 0.7075 - val_loss: 0.4476 - val_accuracy: 0.8946\n",
      "Epoch 41/1000\n",
      " 1/31 [..............................] - ETA: 0s - loss: 0.6500 - accuracy: 0.7969\n",
      "Epoch 41: saving model to model/keypoint_classifier\\keypoint_classifier.hdf5\n",
      "31/31 [==============================] - 0s 3ms/step - loss: 0.7747 - accuracy: 0.7090 - val_loss: 0.4381 - val_accuracy: 0.8999\n",
      "Epoch 42/1000\n",
      " 1/31 [..............................] - ETA: 0s - loss: 0.8469 - accuracy: 0.7344\n",
      "Epoch 42: saving model to model/keypoint_classifier\\keypoint_classifier.hdf5\n",
      "31/31 [==============================] - 0s 3ms/step - loss: 0.7884 - accuracy: 0.7032 - val_loss: 0.4432 - val_accuracy: 0.9022\n",
      "Epoch 43/1000\n",
      " 1/31 [..............................] - ETA: 0s - loss: 0.6872 - accuracy: 0.8047\n",
      "Epoch 43: saving model to model/keypoint_classifier\\keypoint_classifier.hdf5\n",
      "31/31 [==============================] - 0s 3ms/step - loss: 0.7645 - accuracy: 0.7156 - val_loss: 0.4337 - val_accuracy: 0.8992\n",
      "Epoch 44/1000\n",
      " 1/31 [..............................] - ETA: 0s - loss: 0.8403 - accuracy: 0.6719\n",
      "Epoch 44: saving model to model/keypoint_classifier\\keypoint_classifier.hdf5\n",
      "31/31 [==============================] - 0s 3ms/step - loss: 0.7703 - accuracy: 0.6954 - val_loss: 0.4263 - val_accuracy: 0.9037\n",
      "Epoch 45/1000\n",
      " 1/31 [..............................] - ETA: 0s - loss: 0.7023 - accuracy: 0.7500\n",
      "Epoch 45: saving model to model/keypoint_classifier\\keypoint_classifier.hdf5\n",
      "31/31 [==============================] - 0s 3ms/step - loss: 0.7664 - accuracy: 0.7075 - val_loss: 0.4238 - val_accuracy: 0.8939\n",
      "Epoch 46/1000\n",
      " 1/31 [..............................] - ETA: 0s - loss: 0.9155 - accuracy: 0.6250\n",
      "Epoch 46: saving model to model/keypoint_classifier\\keypoint_classifier.hdf5\n",
      "31/31 [==============================] - 0s 3ms/step - loss: 0.7596 - accuracy: 0.7075 - val_loss: 0.4217 - val_accuracy: 0.9045\n",
      "Epoch 47/1000\n",
      " 1/31 [..............................] - ETA: 0s - loss: 0.8034 - accuracy: 0.6875\n",
      "Epoch 47: saving model to model/keypoint_classifier\\keypoint_classifier.hdf5\n",
      "31/31 [==============================] - 0s 3ms/step - loss: 0.7585 - accuracy: 0.7083 - val_loss: 0.4115 - val_accuracy: 0.9045\n",
      "Epoch 48/1000\n",
      " 1/31 [..............................] - ETA: 0s - loss: 0.7363 - accuracy: 0.6875\n",
      "Epoch 48: saving model to model/keypoint_classifier\\keypoint_classifier.hdf5\n",
      "31/31 [==============================] - 0s 3ms/step - loss: 0.7732 - accuracy: 0.7050 - val_loss: 0.4146 - val_accuracy: 0.9067\n",
      "Epoch 49/1000\n",
      " 1/31 [..............................] - ETA: 0s - loss: 0.7181 - accuracy: 0.7734\n",
      "Epoch 49: saving model to model/keypoint_classifier\\keypoint_classifier.hdf5\n",
      "31/31 [==============================] - 0s 3ms/step - loss: 0.7407 - accuracy: 0.7237 - val_loss: 0.4154 - val_accuracy: 0.9007\n",
      "Epoch 50/1000\n",
      " 1/31 [..............................] - ETA: 0s - loss: 0.6918 - accuracy: 0.7344\n",
      "Epoch 50: saving model to model/keypoint_classifier\\keypoint_classifier.hdf5\n",
      "31/31 [==============================] - 0s 3ms/step - loss: 0.7344 - accuracy: 0.7295 - val_loss: 0.4110 - val_accuracy: 0.9143\n",
      "Epoch 51/1000\n",
      " 1/31 [..............................] - ETA: 0s - loss: 0.7991 - accuracy: 0.7344\n",
      "Epoch 51: saving model to model/keypoint_classifier\\keypoint_classifier.hdf5\n",
      "31/31 [==============================] - 0s 3ms/step - loss: 0.7506 - accuracy: 0.7133 - val_loss: 0.4164 - val_accuracy: 0.9007\n",
      "Epoch 52/1000\n",
      " 1/31 [..............................] - ETA: 0s - loss: 0.7780 - accuracy: 0.6562\n",
      "Epoch 52: saving model to model/keypoint_classifier\\keypoint_classifier.hdf5\n",
      "31/31 [==============================] - 0s 3ms/step - loss: 0.7396 - accuracy: 0.7144 - val_loss: 0.4034 - val_accuracy: 0.9105\n",
      "Epoch 53/1000\n",
      " 1/31 [..............................] - ETA: 0s - loss: 0.6768 - accuracy: 0.7734\n",
      "Epoch 53: saving model to model/keypoint_classifier\\keypoint_classifier.hdf5\n",
      "31/31 [==============================] - 0s 3ms/step - loss: 0.7427 - accuracy: 0.7209 - val_loss: 0.4016 - val_accuracy: 0.9060\n",
      "Epoch 54/1000\n",
      " 1/31 [..............................] - ETA: 0s - loss: 0.7042 - accuracy: 0.7891\n",
      "Epoch 54: saving model to model/keypoint_classifier\\keypoint_classifier.hdf5\n",
      "31/31 [==============================] - 0s 3ms/step - loss: 0.7420 - accuracy: 0.7159 - val_loss: 0.4036 - val_accuracy: 0.9052\n",
      "Epoch 55/1000\n",
      " 1/31 [..............................] - ETA: 0s - loss: 0.8414 - accuracy: 0.7188\n",
      "Epoch 55: saving model to model/keypoint_classifier\\keypoint_classifier.hdf5\n",
      "31/31 [==============================] - 0s 3ms/step - loss: 0.7329 - accuracy: 0.7214 - val_loss: 0.3952 - val_accuracy: 0.9196\n",
      "Epoch 56/1000\n",
      " 1/31 [..............................] - ETA: 0s - loss: 0.8169 - accuracy: 0.7031\n",
      "Epoch 56: saving model to model/keypoint_classifier\\keypoint_classifier.hdf5\n",
      "31/31 [==============================] - 0s 3ms/step - loss: 0.7509 - accuracy: 0.7126 - val_loss: 0.3955 - val_accuracy: 0.9166\n",
      "Epoch 57/1000\n",
      " 1/31 [..............................] - ETA: 0s - loss: 0.6518 - accuracy: 0.7891\n",
      "Epoch 57: saving model to model/keypoint_classifier\\keypoint_classifier.hdf5\n",
      "31/31 [==============================] - 0s 3ms/step - loss: 0.7049 - accuracy: 0.7328 - val_loss: 0.3894 - val_accuracy: 0.9158\n",
      "Epoch 58/1000\n",
      " 1/31 [..............................] - ETA: 0s - loss: 0.5581 - accuracy: 0.7734\n",
      "Epoch 58: saving model to model/keypoint_classifier\\keypoint_classifier.hdf5\n",
      "31/31 [==============================] - 0s 3ms/step - loss: 0.7275 - accuracy: 0.7310 - val_loss: 0.3890 - val_accuracy: 0.9158\n",
      "Epoch 59/1000\n",
      " 1/31 [..............................] - ETA: 0s - loss: 0.9442 - accuracy: 0.6797\n",
      "Epoch 59: saving model to model/keypoint_classifier\\keypoint_classifier.hdf5\n",
      "31/31 [==============================] - 0s 3ms/step - loss: 0.7360 - accuracy: 0.7209 - val_loss: 0.3879 - val_accuracy: 0.9105\n",
      "Epoch 60/1000\n",
      " 1/31 [..............................] - ETA: 0s - loss: 0.6681 - accuracy: 0.6953\n",
      "Epoch 60: saving model to model/keypoint_classifier\\keypoint_classifier.hdf5\n",
      "31/31 [==============================] - 0s 3ms/step - loss: 0.7081 - accuracy: 0.7283 - val_loss: 0.3784 - val_accuracy: 0.9098\n",
      "Epoch 61/1000\n",
      " 1/31 [..............................] - ETA: 0s - loss: 0.5993 - accuracy: 0.7812\n",
      "Epoch 61: saving model to model/keypoint_classifier\\keypoint_classifier.hdf5\n",
      "31/31 [==============================] - 0s 3ms/step - loss: 0.7065 - accuracy: 0.7371 - val_loss: 0.3851 - val_accuracy: 0.9143\n",
      "Epoch 62/1000\n",
      " 1/31 [..............................] - ETA: 0s - loss: 0.6428 - accuracy: 0.7734\n",
      "Epoch 62: saving model to model/keypoint_classifier\\keypoint_classifier.hdf5\n",
      "31/31 [==============================] - 0s 3ms/step - loss: 0.7303 - accuracy: 0.7204 - val_loss: 0.3776 - val_accuracy: 0.9174\n",
      "Epoch 63/1000\n",
      " 1/31 [..............................] - ETA: 0s - loss: 0.6667 - accuracy: 0.7500\n",
      "Epoch 63: saving model to model/keypoint_classifier\\keypoint_classifier.hdf5\n",
      "31/31 [==============================] - 0s 3ms/step - loss: 0.6995 - accuracy: 0.7369 - val_loss: 0.3847 - val_accuracy: 0.9105\n",
      "Epoch 64/1000\n",
      " 1/31 [..............................] - ETA: 0s - loss: 0.8912 - accuracy: 0.7031\n",
      "Epoch 64: saving model to model/keypoint_classifier\\keypoint_classifier.hdf5\n",
      "31/31 [==============================] - 0s 3ms/step - loss: 0.7231 - accuracy: 0.7232 - val_loss: 0.3777 - val_accuracy: 0.9174\n",
      "Epoch 65/1000\n",
      " 1/31 [..............................] - ETA: 0s - loss: 0.6999 - accuracy: 0.7188\n",
      "Epoch 65: saving model to model/keypoint_classifier\\keypoint_classifier.hdf5\n",
      "31/31 [==============================] - 0s 3ms/step - loss: 0.7009 - accuracy: 0.7348 - val_loss: 0.3804 - val_accuracy: 0.9136\n",
      "Epoch 66/1000\n",
      " 1/31 [..............................] - ETA: 0s - loss: 0.5779 - accuracy: 0.7969\n",
      "Epoch 66: saving model to model/keypoint_classifier\\keypoint_classifier.hdf5\n",
      "31/31 [==============================] - 0s 3ms/step - loss: 0.6962 - accuracy: 0.7376 - val_loss: 0.3724 - val_accuracy: 0.9158\n",
      "Epoch 67/1000\n",
      " 1/31 [..............................] - ETA: 0s - loss: 0.7417 - accuracy: 0.7266\n",
      "Epoch 67: saving model to model/keypoint_classifier\\keypoint_classifier.hdf5\n",
      "31/31 [==============================] - 0s 3ms/step - loss: 0.6882 - accuracy: 0.7356 - val_loss: 0.3688 - val_accuracy: 0.9181\n",
      "Epoch 68/1000\n",
      " 1/31 [..............................] - ETA: 0s - loss: 0.7502 - accuracy: 0.6719\n",
      "Epoch 68: saving model to model/keypoint_classifier\\keypoint_classifier.hdf5\n",
      "31/31 [==============================] - 0s 3ms/step - loss: 0.6828 - accuracy: 0.7391 - val_loss: 0.3776 - val_accuracy: 0.9128\n",
      "Epoch 69/1000\n",
      " 1/31 [..............................] - ETA: 0s - loss: 0.5565 - accuracy: 0.7969\n",
      "Epoch 69: saving model to model/keypoint_classifier\\keypoint_classifier.hdf5\n",
      "31/31 [==============================] - 0s 3ms/step - loss: 0.6895 - accuracy: 0.7452 - val_loss: 0.3695 - val_accuracy: 0.9143\n",
      "Epoch 70/1000\n",
      " 1/31 [..............................] - ETA: 0s - loss: 0.7844 - accuracy: 0.7188\n",
      "Epoch 70: saving model to model/keypoint_classifier\\keypoint_classifier.hdf5\n",
      "31/31 [==============================] - 0s 3ms/step - loss: 0.7126 - accuracy: 0.7328 - val_loss: 0.3672 - val_accuracy: 0.9227\n",
      "Epoch 71/1000\n",
      " 1/31 [..............................] - ETA: 0s - loss: 0.6899 - accuracy: 0.7344\n",
      "Epoch 71: saving model to model/keypoint_classifier\\keypoint_classifier.hdf5\n",
      "31/31 [==============================] - 0s 3ms/step - loss: 0.6677 - accuracy: 0.7508 - val_loss: 0.3604 - val_accuracy: 0.9212\n",
      "Epoch 72/1000\n",
      " 1/31 [..............................] - ETA: 0s - loss: 0.6768 - accuracy: 0.7500\n",
      "Epoch 72: saving model to model/keypoint_classifier\\keypoint_classifier.hdf5\n",
      "31/31 [==============================] - 0s 3ms/step - loss: 0.6902 - accuracy: 0.7379 - val_loss: 0.3568 - val_accuracy: 0.9196\n",
      "Epoch 73/1000\n",
      " 1/31 [..............................] - ETA: 0s - loss: 0.6758 - accuracy: 0.7734\n",
      "Epoch 73: saving model to model/keypoint_classifier\\keypoint_classifier.hdf5\n",
      "31/31 [==============================] - 0s 3ms/step - loss: 0.6897 - accuracy: 0.7396 - val_loss: 0.3600 - val_accuracy: 0.9204\n",
      "Epoch 74/1000\n",
      " 1/31 [..............................] - ETA: 0s - loss: 0.6323 - accuracy: 0.7812\n",
      "Epoch 74: saving model to model/keypoint_classifier\\keypoint_classifier.hdf5\n",
      "31/31 [==============================] - 0s 3ms/step - loss: 0.6785 - accuracy: 0.7497 - val_loss: 0.3543 - val_accuracy: 0.9227\n",
      "Epoch 75/1000\n",
      " 1/31 [..............................] - ETA: 0s - loss: 0.6490 - accuracy: 0.7891\n",
      "Epoch 75: saving model to model/keypoint_classifier\\keypoint_classifier.hdf5\n",
      "31/31 [==============================] - 0s 3ms/step - loss: 0.6845 - accuracy: 0.7434 - val_loss: 0.3626 - val_accuracy: 0.9196\n",
      "Epoch 76/1000\n",
      " 1/31 [..............................] - ETA: 0s - loss: 0.7019 - accuracy: 0.7031\n",
      "Epoch 76: saving model to model/keypoint_classifier\\keypoint_classifier.hdf5\n",
      "31/31 [==============================] - 0s 3ms/step - loss: 0.6984 - accuracy: 0.7346 - val_loss: 0.3629 - val_accuracy: 0.9151\n",
      "Epoch 77/1000\n",
      " 1/31 [..............................] - ETA: 0s - loss: 0.6995 - accuracy: 0.7578\n",
      "Epoch 77: saving model to model/keypoint_classifier\\keypoint_classifier.hdf5\n",
      "31/31 [==============================] - 0s 3ms/step - loss: 0.6729 - accuracy: 0.7454 - val_loss: 0.3641 - val_accuracy: 0.9189\n",
      "Epoch 78/1000\n",
      " 1/31 [..............................] - ETA: 0s - loss: 0.6989 - accuracy: 0.7500\n",
      "Epoch 78: saving model to model/keypoint_classifier\\keypoint_classifier.hdf5\n",
      "31/31 [==============================] - 0s 3ms/step - loss: 0.6732 - accuracy: 0.7447 - val_loss: 0.3565 - val_accuracy: 0.9067\n",
      "Epoch 79/1000\n",
      " 1/31 [..............................] - ETA: 0s - loss: 0.6481 - accuracy: 0.7500\n",
      "Epoch 79: saving model to model/keypoint_classifier\\keypoint_classifier.hdf5\n",
      "31/31 [==============================] - 0s 3ms/step - loss: 0.6847 - accuracy: 0.7419 - val_loss: 0.3467 - val_accuracy: 0.9242\n",
      "Epoch 80/1000\n",
      " 1/31 [..............................] - ETA: 0s - loss: 0.7454 - accuracy: 0.7266\n",
      "Epoch 80: saving model to model/keypoint_classifier\\keypoint_classifier.hdf5\n",
      "31/31 [==============================] - 0s 3ms/step - loss: 0.6731 - accuracy: 0.7465 - val_loss: 0.3560 - val_accuracy: 0.9212\n",
      "Epoch 81/1000\n",
      " 1/31 [..............................] - ETA: 0s - loss: 0.6075 - accuracy: 0.7578\n",
      "Epoch 81: saving model to model/keypoint_classifier\\keypoint_classifier.hdf5\n",
      "31/31 [==============================] - 0s 3ms/step - loss: 0.6869 - accuracy: 0.7396 - val_loss: 0.3553 - val_accuracy: 0.9204\n",
      "Epoch 82/1000\n",
      " 1/31 [..............................] - ETA: 0s - loss: 0.7267 - accuracy: 0.7656\n",
      "Epoch 82: saving model to model/keypoint_classifier\\keypoint_classifier.hdf5\n",
      "31/31 [==============================] - 0s 3ms/step - loss: 0.6541 - accuracy: 0.7523 - val_loss: 0.3489 - val_accuracy: 0.9166\n",
      "Epoch 83/1000\n",
      " 1/31 [..............................] - ETA: 0s - loss: 0.6885 - accuracy: 0.7266\n",
      "Epoch 83: saving model to model/keypoint_classifier\\keypoint_classifier.hdf5\n",
      "31/31 [==============================] - 0s 3ms/step - loss: 0.6619 - accuracy: 0.7520 - val_loss: 0.3522 - val_accuracy: 0.9196\n",
      "Epoch 84/1000\n",
      " 1/31 [..............................] - ETA: 0s - loss: 0.6801 - accuracy: 0.7109\n",
      "Epoch 84: saving model to model/keypoint_classifier\\keypoint_classifier.hdf5\n",
      "31/31 [==============================] - 0s 3ms/step - loss: 0.6474 - accuracy: 0.7513 - val_loss: 0.3534 - val_accuracy: 0.9280\n",
      "Epoch 85/1000\n",
      " 1/31 [..............................] - ETA: 0s - loss: 0.6959 - accuracy: 0.7266\n",
      "Epoch 85: saving model to model/keypoint_classifier\\keypoint_classifier.hdf5\n",
      "31/31 [==============================] - 0s 3ms/step - loss: 0.6676 - accuracy: 0.7505 - val_loss: 0.3450 - val_accuracy: 0.9174\n",
      "Epoch 86/1000\n",
      " 1/31 [..............................] - ETA: 0s - loss: 0.7206 - accuracy: 0.6953\n",
      "Epoch 86: saving model to model/keypoint_classifier\\keypoint_classifier.hdf5\n",
      "31/31 [==============================] - 0s 3ms/step - loss: 0.6814 - accuracy: 0.7427 - val_loss: 0.3484 - val_accuracy: 0.9136\n",
      "Epoch 87/1000\n",
      " 1/31 [..............................] - ETA: 0s - loss: 0.7839 - accuracy: 0.7422\n",
      "Epoch 87: saving model to model/keypoint_classifier\\keypoint_classifier.hdf5\n",
      "31/31 [==============================] - 0s 3ms/step - loss: 0.6512 - accuracy: 0.7528 - val_loss: 0.3518 - val_accuracy: 0.9158\n",
      "Epoch 88/1000\n",
      " 1/31 [..............................] - ETA: 0s - loss: 0.5901 - accuracy: 0.7734\n",
      "Epoch 88: saving model to model/keypoint_classifier\\keypoint_classifier.hdf5\n",
      "31/31 [==============================] - 0s 3ms/step - loss: 0.6574 - accuracy: 0.7538 - val_loss: 0.3445 - val_accuracy: 0.9166\n",
      "Epoch 89/1000\n",
      " 1/31 [..............................] - ETA: 0s - loss: 0.4954 - accuracy: 0.8047\n",
      "Epoch 89: saving model to model/keypoint_classifier\\keypoint_classifier.hdf5\n",
      "31/31 [==============================] - 0s 3ms/step - loss: 0.6681 - accuracy: 0.7492 - val_loss: 0.3466 - val_accuracy: 0.9181\n",
      "Epoch 90/1000\n",
      " 1/31 [..............................] - ETA: 0s - loss: 0.6920 - accuracy: 0.7734\n",
      "Epoch 90: saving model to model/keypoint_classifier\\keypoint_classifier.hdf5\n",
      "31/31 [==============================] - 0s 3ms/step - loss: 0.6795 - accuracy: 0.7358 - val_loss: 0.3517 - val_accuracy: 0.9174\n",
      "Epoch 91/1000\n",
      " 1/31 [..............................] - ETA: 0s - loss: 0.6612 - accuracy: 0.7578\n",
      "Epoch 91: saving model to model/keypoint_classifier\\keypoint_classifier.hdf5\n",
      "31/31 [==============================] - 0s 3ms/step - loss: 0.6662 - accuracy: 0.7515 - val_loss: 0.3460 - val_accuracy: 0.9181\n",
      "Epoch 92/1000\n",
      " 1/31 [..............................] - ETA: 0s - loss: 0.7052 - accuracy: 0.6875\n",
      "Epoch 92: saving model to model/keypoint_classifier\\keypoint_classifier.hdf5\n",
      "31/31 [==============================] - 0s 3ms/step - loss: 0.6761 - accuracy: 0.7442 - val_loss: 0.3441 - val_accuracy: 0.9166\n",
      "Epoch 93/1000\n",
      " 1/31 [..............................] - ETA: 0s - loss: 0.6153 - accuracy: 0.7578\n",
      "Epoch 93: saving model to model/keypoint_classifier\\keypoint_classifier.hdf5\n",
      "31/31 [==============================] - 0s 3ms/step - loss: 0.6554 - accuracy: 0.7510 - val_loss: 0.3445 - val_accuracy: 0.9128\n",
      "Epoch 94/1000\n",
      " 1/31 [..............................] - ETA: 0s - loss: 0.8058 - accuracy: 0.6875\n",
      "Epoch 94: saving model to model/keypoint_classifier\\keypoint_classifier.hdf5\n",
      "31/31 [==============================] - 0s 3ms/step - loss: 0.6463 - accuracy: 0.7515 - val_loss: 0.3507 - val_accuracy: 0.9083\n",
      "Epoch 95/1000\n",
      " 1/31 [..............................] - ETA: 0s - loss: 0.7293 - accuracy: 0.7188\n",
      "Epoch 95: saving model to model/keypoint_classifier\\keypoint_classifier.hdf5\n",
      "31/31 [==============================] - 0s 3ms/step - loss: 0.6790 - accuracy: 0.7454 - val_loss: 0.3446 - val_accuracy: 0.9174\n",
      "Epoch 96/1000\n",
      " 1/31 [..............................] - ETA: 0s - loss: 0.6473 - accuracy: 0.7422\n",
      "Epoch 96: saving model to model/keypoint_classifier\\keypoint_classifier.hdf5\n",
      "31/31 [==============================] - 0s 3ms/step - loss: 0.6714 - accuracy: 0.7475 - val_loss: 0.3445 - val_accuracy: 0.9196\n",
      "Epoch 97/1000\n",
      " 1/31 [..............................] - ETA: 0s - loss: 0.7205 - accuracy: 0.7031\n",
      "Epoch 97: saving model to model/keypoint_classifier\\keypoint_classifier.hdf5\n",
      "31/31 [==============================] - 0s 3ms/step - loss: 0.6529 - accuracy: 0.7503 - val_loss: 0.3431 - val_accuracy: 0.9196\n",
      "Epoch 98/1000\n",
      " 1/31 [..............................] - ETA: 0s - loss: 0.5719 - accuracy: 0.7734\n",
      "Epoch 98: saving model to model/keypoint_classifier\\keypoint_classifier.hdf5\n",
      "31/31 [==============================] - 0s 3ms/step - loss: 0.6699 - accuracy: 0.7497 - val_loss: 0.3546 - val_accuracy: 0.9128\n",
      "Epoch 99/1000\n",
      " 1/31 [..............................] - ETA: 0s - loss: 0.6154 - accuracy: 0.7812\n",
      "Epoch 99: saving model to model/keypoint_classifier\\keypoint_classifier.hdf5\n",
      "31/31 [==============================] - 0s 3ms/step - loss: 0.6567 - accuracy: 0.7551 - val_loss: 0.3406 - val_accuracy: 0.9151\n",
      "Epoch 100/1000\n",
      " 1/31 [..............................] - ETA: 0s - loss: 0.6717 - accuracy: 0.7578\n",
      "Epoch 100: saving model to model/keypoint_classifier\\keypoint_classifier.hdf5\n",
      "31/31 [==============================] - 0s 3ms/step - loss: 0.6586 - accuracy: 0.7553 - val_loss: 0.3512 - val_accuracy: 0.9136\n",
      "Epoch 101/1000\n",
      " 1/31 [..............................] - ETA: 0s - loss: 0.5934 - accuracy: 0.7422\n",
      "Epoch 101: saving model to model/keypoint_classifier\\keypoint_classifier.hdf5\n",
      "31/31 [==============================] - 0s 3ms/step - loss: 0.6409 - accuracy: 0.7568 - val_loss: 0.3386 - val_accuracy: 0.9204\n",
      "Epoch 102/1000\n",
      " 1/31 [..............................] - ETA: 0s - loss: 0.7254 - accuracy: 0.7266\n",
      "Epoch 102: saving model to model/keypoint_classifier\\keypoint_classifier.hdf5\n",
      "31/31 [==============================] - 0s 3ms/step - loss: 0.6491 - accuracy: 0.7543 - val_loss: 0.3403 - val_accuracy: 0.9189\n",
      "Epoch 103/1000\n",
      " 1/31 [..............................] - ETA: 0s - loss: 0.7296 - accuracy: 0.7109\n",
      "Epoch 103: saving model to model/keypoint_classifier\\keypoint_classifier.hdf5\n",
      "31/31 [==============================] - 0s 3ms/step - loss: 0.6665 - accuracy: 0.7495 - val_loss: 0.3480 - val_accuracy: 0.9136\n",
      "Epoch 104/1000\n",
      " 1/31 [..............................] - ETA: 0s - loss: 0.7064 - accuracy: 0.7188\n",
      "Epoch 104: saving model to model/keypoint_classifier\\keypoint_classifier.hdf5\n",
      "31/31 [==============================] - 0s 3ms/step - loss: 0.6433 - accuracy: 0.7594 - val_loss: 0.3370 - val_accuracy: 0.9181\n",
      "Epoch 105/1000\n",
      " 1/31 [..............................] - ETA: 0s - loss: 0.5044 - accuracy: 0.8438\n",
      "Epoch 105: saving model to model/keypoint_classifier\\keypoint_classifier.hdf5\n",
      "31/31 [==============================] - 0s 3ms/step - loss: 0.6291 - accuracy: 0.7629 - val_loss: 0.3352 - val_accuracy: 0.9219\n",
      "Epoch 106/1000\n",
      " 1/31 [..............................] - ETA: 0s - loss: 0.6765 - accuracy: 0.7500\n",
      "Epoch 106: saving model to model/keypoint_classifier\\keypoint_classifier.hdf5\n",
      "31/31 [==============================] - 0s 3ms/step - loss: 0.6429 - accuracy: 0.7611 - val_loss: 0.3328 - val_accuracy: 0.9204\n",
      "Epoch 107/1000\n",
      " 1/31 [..............................] - ETA: 0s - loss: 0.5783 - accuracy: 0.7500\n",
      "Epoch 107: saving model to model/keypoint_classifier\\keypoint_classifier.hdf5\n",
      "31/31 [==============================] - 0s 3ms/step - loss: 0.6436 - accuracy: 0.7525 - val_loss: 0.3339 - val_accuracy: 0.9196\n",
      "Epoch 108/1000\n",
      " 1/31 [..............................] - ETA: 0s - loss: 0.7885 - accuracy: 0.7266\n",
      "Epoch 108: saving model to model/keypoint_classifier\\keypoint_classifier.hdf5\n",
      "31/31 [==============================] - 0s 3ms/step - loss: 0.6433 - accuracy: 0.7566 - val_loss: 0.3409 - val_accuracy: 0.9227\n",
      "Epoch 109/1000\n",
      " 1/31 [..............................] - ETA: 0s - loss: 0.5965 - accuracy: 0.7422\n",
      "Epoch 109: saving model to model/keypoint_classifier\\keypoint_classifier.hdf5\n",
      "31/31 [==============================] - 0s 3ms/step - loss: 0.6498 - accuracy: 0.7546 - val_loss: 0.3407 - val_accuracy: 0.9158\n",
      "Epoch 110/1000\n",
      " 1/31 [..............................] - ETA: 0s - loss: 0.7400 - accuracy: 0.7266\n",
      "Epoch 110: saving model to model/keypoint_classifier\\keypoint_classifier.hdf5\n",
      "31/31 [==============================] - 0s 3ms/step - loss: 0.6421 - accuracy: 0.7588 - val_loss: 0.3435 - val_accuracy: 0.9249\n",
      "Epoch 111/1000\n",
      " 1/31 [..............................] - ETA: 0s - loss: 0.6803 - accuracy: 0.7188\n",
      "Epoch 111: saving model to model/keypoint_classifier\\keypoint_classifier.hdf5\n",
      "31/31 [==============================] - 0s 3ms/step - loss: 0.6441 - accuracy: 0.7556 - val_loss: 0.3363 - val_accuracy: 0.9196\n",
      "Epoch 112/1000\n",
      " 1/31 [..............................] - ETA: 0s - loss: 0.6537 - accuracy: 0.7734\n",
      "Epoch 112: saving model to model/keypoint_classifier\\keypoint_classifier.hdf5\n",
      "31/31 [==============================] - 0s 3ms/step - loss: 0.6410 - accuracy: 0.7606 - val_loss: 0.3371 - val_accuracy: 0.9174\n",
      "Epoch 113/1000\n",
      " 1/31 [..............................] - ETA: 0s - loss: 0.7661 - accuracy: 0.7188\n",
      "Epoch 113: saving model to model/keypoint_classifier\\keypoint_classifier.hdf5\n",
      "31/31 [==============================] - 0s 3ms/step - loss: 0.6579 - accuracy: 0.7525 - val_loss: 0.3452 - val_accuracy: 0.9219\n",
      "Epoch 114/1000\n",
      " 1/31 [..............................] - ETA: 0s - loss: 0.6008 - accuracy: 0.7656\n",
      "Epoch 114: saving model to model/keypoint_classifier\\keypoint_classifier.hdf5\n",
      "31/31 [==============================] - 0s 3ms/step - loss: 0.6481 - accuracy: 0.7505 - val_loss: 0.3400 - val_accuracy: 0.9189\n",
      "Epoch 115/1000\n",
      " 1/31 [..............................] - ETA: 0s - loss: 0.6971 - accuracy: 0.7422\n",
      "Epoch 115: saving model to model/keypoint_classifier\\keypoint_classifier.hdf5\n",
      "31/31 [==============================] - 0s 3ms/step - loss: 0.6421 - accuracy: 0.7637 - val_loss: 0.3518 - val_accuracy: 0.9181\n",
      "Epoch 116/1000\n",
      " 1/31 [..............................] - ETA: 0s - loss: 0.8387 - accuracy: 0.6953\n",
      "Epoch 116: saving model to model/keypoint_classifier\\keypoint_classifier.hdf5\n",
      "31/31 [==============================] - 0s 3ms/step - loss: 0.6392 - accuracy: 0.7616 - val_loss: 0.3380 - val_accuracy: 0.9219\n",
      "Epoch 117/1000\n",
      " 1/31 [..............................] - ETA: 0s - loss: 0.6293 - accuracy: 0.7656\n",
      "Epoch 117: saving model to model/keypoint_classifier\\keypoint_classifier.hdf5\n",
      "31/31 [==============================] - 0s 3ms/step - loss: 0.6336 - accuracy: 0.7700 - val_loss: 0.3406 - val_accuracy: 0.9257\n",
      "Epoch 118/1000\n",
      " 1/31 [..............................] - ETA: 0s - loss: 0.5688 - accuracy: 0.7656\n",
      "Epoch 118: saving model to model/keypoint_classifier\\keypoint_classifier.hdf5\n",
      "31/31 [==============================] - 0s 3ms/step - loss: 0.6320 - accuracy: 0.7674 - val_loss: 0.3328 - val_accuracy: 0.9151\n",
      "Epoch 119/1000\n",
      " 1/31 [..............................] - ETA: 0s - loss: 0.4646 - accuracy: 0.8047\n",
      "Epoch 119: saving model to model/keypoint_classifier\\keypoint_classifier.hdf5\n",
      "31/31 [==============================] - 0s 3ms/step - loss: 0.6246 - accuracy: 0.7639 - val_loss: 0.3353 - val_accuracy: 0.9136\n",
      "Epoch 120/1000\n",
      " 1/31 [..............................] - ETA: 0s - loss: 0.6614 - accuracy: 0.7734\n",
      "Epoch 120: saving model to model/keypoint_classifier\\keypoint_classifier.hdf5\n",
      "31/31 [==============================] - 0s 3ms/step - loss: 0.6492 - accuracy: 0.7566 - val_loss: 0.3401 - val_accuracy: 0.9143\n",
      "Epoch 121/1000\n",
      " 1/31 [..............................] - ETA: 0s - loss: 0.5938 - accuracy: 0.7891\n",
      "Epoch 121: saving model to model/keypoint_classifier\\keypoint_classifier.hdf5\n",
      "31/31 [==============================] - 0s 3ms/step - loss: 0.6429 - accuracy: 0.7649 - val_loss: 0.3370 - val_accuracy: 0.9204\n",
      "Epoch 122/1000\n",
      " 1/31 [..............................] - ETA: 0s - loss: 0.7173 - accuracy: 0.6875\n",
      "Epoch 122: saving model to model/keypoint_classifier\\keypoint_classifier.hdf5\n",
      "31/31 [==============================] - 0s 3ms/step - loss: 0.6379 - accuracy: 0.7609 - val_loss: 0.3288 - val_accuracy: 0.9212\n",
      "Epoch 123/1000\n",
      " 1/31 [..............................] - ETA: 0s - loss: 0.6033 - accuracy: 0.7891\n",
      "Epoch 123: saving model to model/keypoint_classifier\\keypoint_classifier.hdf5\n",
      "31/31 [==============================] - 0s 3ms/step - loss: 0.6506 - accuracy: 0.7568 - val_loss: 0.3297 - val_accuracy: 0.9174\n",
      "Epoch 124/1000\n",
      " 1/31 [..............................] - ETA: 0s - loss: 0.6194 - accuracy: 0.7812\n",
      "Epoch 124: saving model to model/keypoint_classifier\\keypoint_classifier.hdf5\n",
      "31/31 [==============================] - 0s 3ms/step - loss: 0.6349 - accuracy: 0.7657 - val_loss: 0.3247 - val_accuracy: 0.9272\n",
      "Epoch 125/1000\n",
      " 1/31 [..............................] - ETA: 0s - loss: 0.6093 - accuracy: 0.7969\n",
      "Epoch 125: saving model to model/keypoint_classifier\\keypoint_classifier.hdf5\n",
      "31/31 [==============================] - 0s 3ms/step - loss: 0.6499 - accuracy: 0.7543 - val_loss: 0.3462 - val_accuracy: 0.9265\n",
      "Epoch 126/1000\n",
      " 1/31 [..............................] - ETA: 0s - loss: 0.6496 - accuracy: 0.7891\n",
      "Epoch 126: saving model to model/keypoint_classifier\\keypoint_classifier.hdf5\n",
      "31/31 [==============================] - 0s 4ms/step - loss: 0.6351 - accuracy: 0.7616 - val_loss: 0.3499 - val_accuracy: 0.9196\n",
      "Epoch 127/1000\n",
      " 1/31 [..............................] - ETA: 0s - loss: 0.6499 - accuracy: 0.7344\n",
      "Epoch 127: saving model to model/keypoint_classifier\\keypoint_classifier.hdf5\n",
      "31/31 [==============================] - 0s 3ms/step - loss: 0.6323 - accuracy: 0.7588 - val_loss: 0.3270 - val_accuracy: 0.9196\n",
      "Epoch 128/1000\n",
      " 1/31 [..............................] - ETA: 0s - loss: 0.6126 - accuracy: 0.7656\n",
      "Epoch 128: saving model to model/keypoint_classifier\\keypoint_classifier.hdf5\n",
      "31/31 [==============================] - 0s 3ms/step - loss: 0.6393 - accuracy: 0.7485 - val_loss: 0.3360 - val_accuracy: 0.9204\n",
      "Epoch 129/1000\n",
      " 1/31 [..............................] - ETA: 0s - loss: 0.5205 - accuracy: 0.7734\n",
      "Epoch 129: saving model to model/keypoint_classifier\\keypoint_classifier.hdf5\n",
      "31/31 [==============================] - 0s 3ms/step - loss: 0.6325 - accuracy: 0.7591 - val_loss: 0.3376 - val_accuracy: 0.9166\n",
      "Epoch 130/1000\n",
      " 1/31 [..............................] - ETA: 0s - loss: 0.7180 - accuracy: 0.7344\n",
      "Epoch 130: saving model to model/keypoint_classifier\\keypoint_classifier.hdf5\n",
      "31/31 [==============================] - 0s 3ms/step - loss: 0.6294 - accuracy: 0.7604 - val_loss: 0.3432 - val_accuracy: 0.9143\n",
      "Epoch 131/1000\n",
      " 1/31 [..............................] - ETA: 0s - loss: 0.6462 - accuracy: 0.7812\n",
      "Epoch 131: saving model to model/keypoint_classifier\\keypoint_classifier.hdf5\n",
      "31/31 [==============================] - 0s 3ms/step - loss: 0.6483 - accuracy: 0.7553 - val_loss: 0.3442 - val_accuracy: 0.9234\n",
      "Epoch 132/1000\n",
      " 1/31 [..............................] - ETA: 0s - loss: 0.6926 - accuracy: 0.7266\n",
      "Epoch 132: saving model to model/keypoint_classifier\\keypoint_classifier.hdf5\n",
      "31/31 [==============================] - 0s 3ms/step - loss: 0.6242 - accuracy: 0.7616 - val_loss: 0.3391 - val_accuracy: 0.9234\n",
      "Epoch 133/1000\n",
      " 1/31 [..............................] - ETA: 0s - loss: 0.6402 - accuracy: 0.7734\n",
      "Epoch 133: saving model to model/keypoint_classifier\\keypoint_classifier.hdf5\n",
      "31/31 [==============================] - 0s 3ms/step - loss: 0.6275 - accuracy: 0.7626 - val_loss: 0.3372 - val_accuracy: 0.9257\n",
      "Epoch 134/1000\n",
      " 1/31 [..............................] - ETA: 0s - loss: 0.6950 - accuracy: 0.7266\n",
      "Epoch 134: saving model to model/keypoint_classifier\\keypoint_classifier.hdf5\n",
      "31/31 [==============================] - 0s 3ms/step - loss: 0.6455 - accuracy: 0.7568 - val_loss: 0.3347 - val_accuracy: 0.9227\n",
      "Epoch 135/1000\n",
      " 1/31 [..............................] - ETA: 0s - loss: 0.5251 - accuracy: 0.7969\n",
      "Epoch 135: saving model to model/keypoint_classifier\\keypoint_classifier.hdf5\n",
      "31/31 [==============================] - 0s 3ms/step - loss: 0.6265 - accuracy: 0.7631 - val_loss: 0.3377 - val_accuracy: 0.9174\n",
      "Epoch 136/1000\n",
      " 1/31 [..............................] - ETA: 0s - loss: 0.6013 - accuracy: 0.7734\n",
      "Epoch 136: saving model to model/keypoint_classifier\\keypoint_classifier.hdf5\n",
      "31/31 [==============================] - 0s 3ms/step - loss: 0.6263 - accuracy: 0.7606 - val_loss: 0.3354 - val_accuracy: 0.9196\n",
      "Epoch 137/1000\n",
      " 1/31 [..............................] - ETA: 0s - loss: 0.6220 - accuracy: 0.7500\n",
      "Epoch 137: saving model to model/keypoint_classifier\\keypoint_classifier.hdf5\n",
      "31/31 [==============================] - 0s 3ms/step - loss: 0.6163 - accuracy: 0.7674 - val_loss: 0.3219 - val_accuracy: 0.9181\n",
      "Epoch 138/1000\n",
      " 1/31 [..............................] - ETA: 0s - loss: 0.6091 - accuracy: 0.7812\n",
      "Epoch 138: saving model to model/keypoint_classifier\\keypoint_classifier.hdf5\n",
      "31/31 [==============================] - 0s 3ms/step - loss: 0.6318 - accuracy: 0.7576 - val_loss: 0.3403 - val_accuracy: 0.9204\n",
      "Epoch 139/1000\n",
      " 1/31 [..............................] - ETA: 0s - loss: 0.6356 - accuracy: 0.7578\n",
      "Epoch 139: saving model to model/keypoint_classifier\\keypoint_classifier.hdf5\n",
      "31/31 [==============================] - 0s 3ms/step - loss: 0.6641 - accuracy: 0.7500 - val_loss: 0.3491 - val_accuracy: 0.9166\n",
      "Epoch 140/1000\n",
      " 1/31 [..............................] - ETA: 0s - loss: 0.6021 - accuracy: 0.7734\n",
      "Epoch 140: saving model to model/keypoint_classifier\\keypoint_classifier.hdf5\n",
      "31/31 [==============================] - 0s 3ms/step - loss: 0.6314 - accuracy: 0.7644 - val_loss: 0.3531 - val_accuracy: 0.9174\n",
      "Epoch 141/1000\n",
      " 1/31 [..............................] - ETA: 0s - loss: 0.6490 - accuracy: 0.7891\n",
      "Epoch 141: saving model to model/keypoint_classifier\\keypoint_classifier.hdf5\n",
      "31/31 [==============================] - 0s 3ms/step - loss: 0.6408 - accuracy: 0.7619 - val_loss: 0.3428 - val_accuracy: 0.9227\n",
      "Epoch 142/1000\n",
      " 1/31 [..............................] - ETA: 0s - loss: 0.6056 - accuracy: 0.7812\n",
      "Epoch 142: saving model to model/keypoint_classifier\\keypoint_classifier.hdf5\n",
      "31/31 [==============================] - 0s 3ms/step - loss: 0.6033 - accuracy: 0.7657 - val_loss: 0.3380 - val_accuracy: 0.9158\n",
      "Epoch 143/1000\n",
      " 1/31 [..............................] - ETA: 0s - loss: 0.6007 - accuracy: 0.7500\n",
      "Epoch 143: saving model to model/keypoint_classifier\\keypoint_classifier.hdf5\n",
      "31/31 [==============================] - 0s 3ms/step - loss: 0.6184 - accuracy: 0.7649 - val_loss: 0.3332 - val_accuracy: 0.9249\n",
      "Epoch 144/1000\n",
      " 1/31 [..............................] - ETA: 0s - loss: 0.6133 - accuracy: 0.7734\n",
      "Epoch 144: saving model to model/keypoint_classifier\\keypoint_classifier.hdf5\n",
      "31/31 [==============================] - 0s 3ms/step - loss: 0.6407 - accuracy: 0.7520 - val_loss: 0.3469 - val_accuracy: 0.9174\n",
      "Epoch 145/1000\n",
      " 1/31 [..............................] - ETA: 0s - loss: 0.6102 - accuracy: 0.7656\n",
      "Epoch 145: saving model to model/keypoint_classifier\\keypoint_classifier.hdf5\n",
      "31/31 [==============================] - 0s 3ms/step - loss: 0.6207 - accuracy: 0.7674 - val_loss: 0.3425 - val_accuracy: 0.9204\n",
      "Epoch 146/1000\n",
      " 1/31 [..............................] - ETA: 0s - loss: 0.6555 - accuracy: 0.8125\n",
      "Epoch 146: saving model to model/keypoint_classifier\\keypoint_classifier.hdf5\n",
      "31/31 [==============================] - 0s 3ms/step - loss: 0.6299 - accuracy: 0.7702 - val_loss: 0.3284 - val_accuracy: 0.9204\n",
      "Epoch 147/1000\n",
      " 1/31 [..............................] - ETA: 0s - loss: 0.6737 - accuracy: 0.7812\n",
      "Epoch 147: saving model to model/keypoint_classifier\\keypoint_classifier.hdf5\n",
      "31/31 [==============================] - 0s 3ms/step - loss: 0.6353 - accuracy: 0.7601 - val_loss: 0.3302 - val_accuracy: 0.9166\n",
      "Epoch 148/1000\n",
      " 1/31 [..............................] - ETA: 0s - loss: 0.5835 - accuracy: 0.8047\n",
      "Epoch 148: saving model to model/keypoint_classifier\\keypoint_classifier.hdf5\n",
      "31/31 [==============================] - 0s 3ms/step - loss: 0.6211 - accuracy: 0.7705 - val_loss: 0.3251 - val_accuracy: 0.9196\n",
      "Epoch 149/1000\n",
      " 1/31 [..............................] - ETA: 0s - loss: 0.5694 - accuracy: 0.7891\n",
      "Epoch 149: saving model to model/keypoint_classifier\\keypoint_classifier.hdf5\n",
      "31/31 [==============================] - 0s 3ms/step - loss: 0.6249 - accuracy: 0.7710 - val_loss: 0.3276 - val_accuracy: 0.9234\n",
      "Epoch 150/1000\n",
      " 1/31 [..............................] - ETA: 0s - loss: 0.5477 - accuracy: 0.8203\n",
      "Epoch 150: saving model to model/keypoint_classifier\\keypoint_classifier.hdf5\n",
      "31/31 [==============================] - 0s 3ms/step - loss: 0.6218 - accuracy: 0.7664 - val_loss: 0.3362 - val_accuracy: 0.9242\n",
      "Epoch 151/1000\n",
      " 1/31 [..............................] - ETA: 0s - loss: 0.5554 - accuracy: 0.7812\n",
      "Epoch 151: saving model to model/keypoint_classifier\\keypoint_classifier.hdf5\n",
      "31/31 [==============================] - 0s 3ms/step - loss: 0.6156 - accuracy: 0.7637 - val_loss: 0.3476 - val_accuracy: 0.9181\n",
      "Epoch 152/1000\n",
      " 1/31 [..............................] - ETA: 0s - loss: 0.5270 - accuracy: 0.8281\n",
      "Epoch 152: saving model to model/keypoint_classifier\\keypoint_classifier.hdf5\n",
      "31/31 [==============================] - 0s 3ms/step - loss: 0.5932 - accuracy: 0.7786 - val_loss: 0.3256 - val_accuracy: 0.9257\n",
      "Epoch 153/1000\n",
      " 1/31 [..............................] - ETA: 0s - loss: 0.6703 - accuracy: 0.7969\n",
      "Epoch 153: saving model to model/keypoint_classifier\\keypoint_classifier.hdf5\n",
      "31/31 [==============================] - 0s 3ms/step - loss: 0.6282 - accuracy: 0.7647 - val_loss: 0.3358 - val_accuracy: 0.9242\n",
      "Epoch 154/1000\n",
      " 1/31 [..............................] - ETA: 0s - loss: 0.6832 - accuracy: 0.7656\n",
      "Epoch 154: saving model to model/keypoint_classifier\\keypoint_classifier.hdf5\n",
      "31/31 [==============================] - 0s 3ms/step - loss: 0.6384 - accuracy: 0.7649 - val_loss: 0.3445 - val_accuracy: 0.9166\n",
      "Epoch 155/1000\n",
      " 1/31 [..............................] - ETA: 0s - loss: 0.7007 - accuracy: 0.7578\n",
      "Epoch 155: saving model to model/keypoint_classifier\\keypoint_classifier.hdf5\n",
      "31/31 [==============================] - 0s 3ms/step - loss: 0.6248 - accuracy: 0.7710 - val_loss: 0.3343 - val_accuracy: 0.9219\n",
      "Epoch 156/1000\n",
      " 1/31 [..............................] - ETA: 0s - loss: 0.5414 - accuracy: 0.8047\n",
      "Epoch 156: saving model to model/keypoint_classifier\\keypoint_classifier.hdf5\n",
      "31/31 [==============================] - 0s 3ms/step - loss: 0.6169 - accuracy: 0.7649 - val_loss: 0.3376 - val_accuracy: 0.9227\n",
      "Epoch 157/1000\n",
      " 1/31 [..............................] - ETA: 0s - loss: 0.4989 - accuracy: 0.7891\n",
      "Epoch 157: saving model to model/keypoint_classifier\\keypoint_classifier.hdf5\n",
      "31/31 [==============================] - 0s 3ms/step - loss: 0.6132 - accuracy: 0.7659 - val_loss: 0.3422 - val_accuracy: 0.9151\n",
      "Epoch 157: early stopping\n"
     ]
    },
    {
     "data": {
      "text/plain": [
       "<keras.callbacks.History at 0x255dbb7e9a0>"
      ]
     },
     "execution_count": 11,
     "metadata": {},
     "output_type": "execute_result"
    }
   ],
   "source": [
    "model.fit(\n",
    "    X_train,\n",
    "    y_train,\n",
    "    epochs=1000,\n",
    "    batch_size=128,\n",
    "    validation_data=(X_test, y_test),\n",
    "    callbacks=[cp_callback, es_callback]\n",
    ")"
   ]
  },
  {
   "cell_type": "code",
   "execution_count": 12,
   "metadata": {
    "colab": {
     "base_uri": "https://localhost:8080/"
    },
    "id": "pxvb2Y299hE3",
    "outputId": "59eb3185-2e37-4b9e-bc9d-ab1b8ac29b7f"
   },
   "outputs": [
    {
     "name": "stdout",
     "output_type": "stream",
     "text": [
      "11/11 [==============================] - 0s 1ms/step - loss: 0.3422 - accuracy: 0.9151\n"
     ]
    }
   ],
   "source": [
    "# Model evaluation\n",
    "val_loss, val_acc = model.evaluate(X_test, y_test, batch_size=128)"
   ]
  },
  {
   "cell_type": "code",
   "execution_count": 13,
   "metadata": {
    "id": "RBkmDeUW9hE4"
   },
   "outputs": [],
   "source": [
    "# Loading the saved model\n",
    "model = tf.keras.models.load_model(model_save_path)"
   ]
  },
  {
   "cell_type": "code",
   "execution_count": 14,
   "metadata": {
    "colab": {
     "base_uri": "https://localhost:8080/"
    },
    "id": "tFz9Tb0I9hE4",
    "outputId": "1c3b3528-54ae-4ee2-ab04-77429211cbef"
   },
   "outputs": [
    {
     "name": "stdout",
     "output_type": "stream",
     "text": [
      "1/1 [==============================] - 0s 67ms/step\n",
      "[9.1426337e-01 8.5143551e-02 3.0282058e-04 2.8852330e-04 1.7162915e-06]\n",
      "0\n"
     ]
    }
   ],
   "source": [
    "# Inference test\n",
    "predict_result = model.predict(np.array([X_test[0]]))\n",
    "print(np.squeeze(predict_result))\n",
    "print(np.argmax(np.squeeze(predict_result)))"
   ]
  },
  {
   "cell_type": "markdown",
   "metadata": {
    "id": "S3U4yNWx9hE4"
   },
   "source": [
    "# Confusion matrix"
   ]
  },
  {
   "cell_type": "code",
   "execution_count": 15,
   "metadata": {
    "colab": {
     "base_uri": "https://localhost:8080/",
     "height": 582
    },
    "id": "AP1V6SCk9hE5",
    "outputId": "08e41a80-7a4a-4619-8125-ecc371368d19"
   },
   "outputs": [
    {
     "name": "stdout",
     "output_type": "stream",
     "text": [
      "42/42 [==============================] - 0s 674us/step\n"
     ]
    },
    {
     "data": {
      "image/png": "[encoded data removed]",
      "text/plain": [
       "<Figure size 700x600 with 2 Axes>"
      ]
     },
     "metadata": {},
     "output_type": "display_data"
    },
    {
     "name": "stdout",
     "output_type": "stream",
     "text": [
      "Classification Report\n",
      "              precision    recall  f1-score   support\n",
      "\n",
      "           0       0.99      0.96      0.97       406\n",
      "           1       0.95      0.96      0.96       365\n",
      "           2       0.94      0.98      0.96       344\n",
      "           3       0.62      0.66      0.64        96\n",
      "           4       0.68      0.60      0.64       108\n",
      "\n",
      "    accuracy                           0.92      1319\n",
      "   macro avg       0.84      0.83      0.83      1319\n",
      "weighted avg       0.91      0.92      0.91      1319\n",
      "\n"
     ]
    }
   ],
   "source": [
    "import pandas as pd\n",
    "import seaborn as sns\n",
    "import matplotlib.pyplot as plt\n",
    "from sklearn.metrics import confusion_matrix, classification_report\n",
    "\n",
    "def print_confusion_matrix(y_true, y_pred, report=True):\n",
    "    labels = sorted(list(set(y_true)))\n",
    "    cmx_data = confusion_matrix(y_true, y_pred, labels=labels)\n",
    "    \n",
    "    df_cmx = pd.DataFrame(cmx_data, index=labels, columns=labels)\n",
    " \n",
    "    fig, ax = plt.subplots(figsize=(7, 6))\n",
    "    sns.heatmap(df_cmx, annot=True, fmt='g' ,square=False)\n",
    "    ax.set_ylim(len(set(y_true)), 0)\n",
    "    plt.show()\n",
    "    \n",
    "    if report:\n",
    "        print('Classification Report')\n",
    "        print(classification_report(y_test, y_pred))\n",
    "\n",
    "Y_pred = model.predict(X_test)\n",
    "y_pred = np.argmax(Y_pred, axis=1)\n",
    "\n",
    "print_confusion_matrix(y_test, y_pred)"
   ]
  },
  {
   "cell_type": "markdown",
   "metadata": {
    "id": "FNP6aqzc9hE5"
   },
   "source": [
    "# Convert to model for Tensorflow-Lite"
   ]
  },
  {
   "cell_type": "code",
   "execution_count": 16,
   "metadata": {
    "id": "ODjnYyld9hE6"
   },
   "outputs": [],
   "source": [
    "# Save as a model dedicated to inference\n",
    "model.save(model_save_path, include_optimizer=False)"
   ]
  },
  {
   "cell_type": "code",
   "execution_count": 17,
   "metadata": {
    "colab": {
     "base_uri": "https://localhost:8080/"
    },
    "id": "zRfuK8Y59hE6",
    "outputId": "a4ca585c-b5d5-4244-8291-8674063209bb"
   },
   "outputs": [
    {
     "name": "stdout",
     "output_type": "stream",
     "text": [
      "INFO:tensorflow:Assets written to: C:\\Users\\BROWN_~1\\AppData\\Local\\Temp\\tmpbknchtxw\\assets\n"
     ]
    },
    {
     "data": {
      "text/plain": [
       "6588"
      ]
     },
     "execution_count": 17,
     "metadata": {},
     "output_type": "execute_result"
    }
   ],
   "source": [
    "# Transform model (quantization)\n",
    "\n",
    "converter = tf.lite.TFLiteConverter.from_keras_model(model)\n",
    "converter.optimizations = [tf.lite.Optimize.DEFAULT]\n",
    "tflite_quantized_model = converter.convert()\n",
    "\n",
    "open(tflite_save_path, 'wb').write(tflite_quantized_model)"
   ]
  },
  {
   "cell_type": "markdown",
   "metadata": {
    "id": "CHBPBXdx9hE6"
   },
   "source": [
    "# Inference test"
   ]
  },
  {
   "cell_type": "code",
   "execution_count": 18,
   "metadata": {
    "id": "mGAzLocO9hE7"
   },
   "outputs": [],
   "source": [
    "interpreter = tf.lite.Interpreter(model_path=tflite_save_path)\n",
    "interpreter.allocate_tensors()"
   ]
  },
  {
   "cell_type": "code",
   "execution_count": 19,
   "metadata": {
    "id": "oQuDK8YS9hE7"
   },
   "outputs": [],
   "source": [
    "# Get I / O tensor\n",
    "input_details = interpreter.get_input_details()\n",
    "output_details = interpreter.get_output_details()"
   ]
  },
  {
   "cell_type": "code",
   "execution_count": 20,
   "metadata": {
    "id": "2_ixAf_l9hE7"
   },
   "outputs": [],
   "source": [
    "interpreter.set_tensor(input_details[0]['index'], np.array([X_test[0]]))"
   ]
  },
  {
   "cell_type": "code",
   "execution_count": 21,
   "metadata": {
    "colab": {
     "base_uri": "https://localhost:8080/"
    },
    "id": "s4FoAnuc9hE7",
    "outputId": "91f18257-8d8b-4ef3-c558-e9b5f94fabbf",
    "scrolled": true
   },
   "outputs": [
    {
     "name": "stdout",
     "output_type": "stream",
     "text": [
      "CPU times: total: 0 ns\n",
      "Wall time: 0 ns\n"
     ]
    }
   ],
   "source": [
    "%%time\n",
    "# Inference implementation\n",
    "interpreter.invoke()\n",
    "tflite_results = interpreter.get_tensor(output_details[0]['index'])"
   ]
  },
  {
   "cell_type": "code",
   "execution_count": 22,
   "metadata": {
    "colab": {
     "base_uri": "https://localhost:8080/"
    },
    "id": "vONjp19J9hE8",
    "outputId": "77205e24-fd00-42c4-f7b6-e06e527c2cba"
   },
   "outputs": [
    {
     "name": "stdout",
     "output_type": "stream",
     "text": [
      "[9.1426331e-01 8.5143618e-02 3.0282116e-04 2.8852385e-04 1.7162963e-06]\n",
      "0\n"
     ]
    }
   ],
   "source": [
    "print(np.squeeze(tflite_results))\n",
    "print(np.argmax(np.squeeze(tflite_results)))"
   ]
  }
 ],
 "metadata": {
  "accelerator": "GPU",
  "colab": {
   "collapsed_sections": [],
   "name": "keypoint_classification_EN.ipynb",
   "provenance": [],
   "toc_visible": true
  },
  "kernelspec": {
   "display_name": "Python 3 (ipykernel)",
   "language": "python",
   "name": "python3"
  },
  "language_info": {
   "codemirror_mode": {
    "name": "ipython",
    "version": 3
   },
   "file_extension": ".py",
   "mimetype": "text/x-python",
   "name": "python",
   "nbconvert_exporter": "python",
   "pygments_lexer": "ipython3",
   "version": "3.9.13"
  }
 },
 "nbformat": 4,
 "nbformat_minor": 4
}
